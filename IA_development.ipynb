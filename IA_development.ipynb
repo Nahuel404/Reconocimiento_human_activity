{
  "nbformat": 4,
  "nbformat_minor": 0,
  "metadata": {
    "colab": {
      "provenance": [],
      "gpuType": "T4"
    },
    "kernelspec": {
      "name": "python3",
      "display_name": "Python 3"
    },
    "language_info": {
      "name": "python"
    },
    "accelerator": "GPU"
  },
  "cells": [
    {
      "cell_type": "markdown",
      "source": [
        "#Recognition of human activity\n",
        "\n",
        "### Welcome to the  create notebook of Artificial Inteligence model"
      ],
      "metadata": {
        "id": "9qNFmCt57KvW"
      }
    },
    {
      "cell_type": "code",
      "execution_count": 1,
      "metadata": {
        "id": "Y1I7xFDtkYWx"
      },
      "outputs": [],
      "source": [
        "#importing all libraries and functions necesary\n",
        "import numpy as np\n",
        "import pandas as pd\n",
        "from sklearn.decomposition import PCA\n",
        "from sklearn.preprocessing import StandardScaler\n",
        "import os\n",
        "from google.colab import drive\n",
        "import matplotlib.pyplot as plt\n",
        "import tensorflow as tf\n",
        "from tensorflow.keras.models import Sequential\n",
        "from tensorflow.keras.layers import Dense\n",
        "from keras.utils import to_categorical"
      ]
    },
    {
      "cell_type": "code",
      "source": [
        "#conect with drive and clone the repositorie\n",
        "drive.mount(\"/content/drtive\")\n",
        "\n",
        "!git clone https://github.com/Nahuel404/Reconocimiento_human_activity.git /content/drive/MyDrive/Reconocimiento_human_activity\n",
        "\n",
        "os.chdir('/content/drive/MyDrive/Reconocimiento_human_activity/UCI HAR Dataset/')"
      ],
      "metadata": {
        "colab": {
          "base_uri": "https://localhost:8080/"
        },
        "id": "6MtEin6FlAIU",
        "outputId": "5308d584-369e-45d5-948d-f06c1c2bd979"
      },
      "execution_count": 2,
      "outputs": [
        {
          "output_type": "stream",
          "name": "stdout",
          "text": [
            "Mounted at /content/drtive\n",
            "Cloning into '/content/drive/MyDrive/Reconocimiento_human_activity'...\n",
            "remote: Enumerating objects: 52, done.\u001b[K\n",
            "remote: Counting objects: 100% (16/16), done.\u001b[K\n",
            "remote: Compressing objects: 100% (12/12), done.\u001b[K\n",
            "remote: Total 52 (delta 3), reused 13 (delta 2), pack-reused 36\u001b[K\n",
            "Receiving objects: 100% (52/52), 82.33 MiB | 15.85 MiB/s, done.\n",
            "Resolving deltas: 100% (4/4), done.\n",
            "Updating files: 100% (32/32), done.\n"
          ]
        }
      ]
    },
    {
      "cell_type": "code",
      "source": [
        "#assign the datasets\n",
        "Xtrain = np.array(pd.read_csv('../Xtrain.csv'))\n",
        "Xtest = np.array(pd.read_csv('../Xtest.csv'))\n",
        "\n",
        "Ytrain = np.array(pd.read_csv('./train/y_train.txt'))\n",
        "Ytest = np.array(pd.read_csv('./test/y_test.txt'))\n",
        "\n",
        "print(Xtrain.shape, Ytrain.shape, Xtest.shape, Ytest.shape)"
      ],
      "metadata": {
        "colab": {
          "base_uri": "https://localhost:8080/"
        },
        "id": "p8angMIllYsL",
        "outputId": "a3ef8f39-877a-4567-8468-fce9bf3d010f"
      },
      "execution_count": 3,
      "outputs": [
        {
          "output_type": "stream",
          "name": "stdout",
          "text": [
            "(7351, 561) (7351, 1) (2946, 561) (2946, 1)\n"
          ]
        }
      ]
    },
    {
      "cell_type": "code",
      "source": [
        "#I applied PCA(Principal Components Analysis) alorithm to reduce the number of features\n",
        "scaler = StandardScaler()\n",
        "features_scaled_train = scaler.fit_transform(Xtrain)\n",
        "features_scaled_test = scaler.transform(Xtest)\n",
        "\n",
        "pca = PCA()\n",
        "features_pca_train = pca.fit_transform(features_scaled_train)\n",
        "\n",
        "cumulative_variance_ratio = np.cumsum(pca.explained_variance_ratio_)\n",
        "num_components = np.argmax(cumulative_variance_ratio >= 0.95) + 1\n",
        "\n",
        "pca = PCA(n_components=num_components)\n",
        "features_reduced_train = pca.fit_transform(features_scaled_train)\n",
        "\n",
        "features_reduced_test = pca.transform(features_scaled_test)\n"
      ],
      "metadata": {
        "id": "ZuBg-WVFmjkG"
      },
      "execution_count": 4,
      "outputs": []
    },
    {
      "cell_type": "code",
      "source": [
        "#Let's see how the information gain is described taking the variance as a metric of this\n",
        "plt.plot(cumulative_variance_ratio)\n",
        "plt.xlabel('Número de Componentes Principales')\n",
        "plt.ylabel('Varianza Explicada Acumulativa')\n",
        "plt.show()\n",
        "\n",
        "print(f\"Número óptimo de componentes principales: {num_components}\")"
      ],
      "metadata": {
        "colab": {
          "base_uri": "https://localhost:8080/",
          "height": 468
        },
        "id": "LP72p2cvnFyI",
        "outputId": "ac59a91c-9d27-414c-8af4-3ad53c46bcd6"
      },
      "execution_count": 5,
      "outputs": [
        {
          "output_type": "display_data",
          "data": {
            "text/plain": [
              "<Figure size 640x480 with 1 Axes>"
            ],
            "image/png": "[encoded data removed]"
          },
          "metadata": {}
        },
        {
          "output_type": "stream",
          "name": "stdout",
          "text": [
            "Número óptimo de componentes principales: 102\n"
          ]
        }
      ]
    },
    {
      "cell_type": "code",
      "source": [
        "print(features_reduced_train.shape, features_reduced_test.shape) #we observe the new shape"
      ],
      "metadata": {
        "colab": {
          "base_uri": "https://localhost:8080/"
        },
        "id": "Mxre6nuwnIMn",
        "outputId": "cd8f3530-12a7-4d06-9e23-26a7d8d7359f"
      },
      "execution_count": 6,
      "outputs": [
        {
          "output_type": "stream",
          "name": "stdout",
          "text": [
            "(7351, 102) (2946, 102)\n"
          ]
        }
      ]
    },
    {
      "cell_type": "code",
      "source": [
        "#let's see each label and how many we have of each ones\n",
        "unique_elements, counts = np.unique(Ytrain, return_counts=True)\n",
        "\n",
        "values_train = dict(zip(unique_elements, counts))\n",
        "\n",
        "unique_elements, counts = np.unique(Ytest, return_counts=True)\n",
        "\n",
        "values_test = dict(zip(unique_elements, counts))\n",
        "\n",
        "print(values_train, values_test)"
      ],
      "metadata": {
        "colab": {
          "base_uri": "https://localhost:8080/"
        },
        "id": "iCoHZUN7uyf7",
        "outputId": "7ca9e5fa-e677-4863-f798-b12db137ffeb"
      },
      "execution_count": 7,
      "outputs": [
        {
          "output_type": "stream",
          "name": "stdout",
          "text": [
            "{1: 1226, 2: 1073, 3: 986, 4: 1286, 5: 1373, 6: 1407} {1: 496, 2: 471, 3: 420, 4: 491, 5: 531, 6: 537}\n"
          ]
        }
      ]
    },
    {
      "cell_type": "code",
      "source": [
        "#We applied \"one hot encoding\" to categorical classes\n",
        "Ytrain_one_hot = to_categorical(Ytrain - 1, num_classes=6)\n",
        "Ytest_one_hot = to_categorical(Ytest - 1, num_classes=6)"
      ],
      "metadata": {
        "id": "Yc-_BLQeBxp9"
      },
      "execution_count": 10,
      "outputs": []
    },
    {
      "cell_type": "code",
      "source": [
        "#Created five types of Neural Networks to evaluate the accuracy of each ones and select the better architecture\n",
        "First_NN = Sequential([\n",
        "    Dense(102, activation = 'relu'),\n",
        "    Dense(256, activation = \"relu\"),\n",
        "    Dense(128, activation = \"relu\"),\n",
        "    Dense(64, activation = 'relu'),\n",
        "    Dense(6, activation = \"softmax\")\n",
        "])\n",
        "\n",
        "Second_NN = Sequential([\n",
        "    Dense(102, activation = 'relu'),\n",
        "    Dense(128, activation = 'relu'),\n",
        "    Dense(64, activation = 'relu'),\n",
        "    Dense(64, activation = 'relu'),\n",
        "    Dense(6, activation = \"softmax\")\n",
        "])\n",
        "\n",
        "Third_NN = Sequential([\n",
        "    Dense(102, activation = 'relu'),\n",
        "    Dense(256, activation = \"relu\"),\n",
        "    Dense(128, activation = 'relu'),\n",
        "    Dense(6, activation = \"softmax\")\n",
        "])\n",
        "\n",
        "Fourth_NN = Sequential([\n",
        "    Dense(102, activation = 'relu'),\n",
        "    Dense(102, activation = \"relu\"),\n",
        "    Dense(256, activation = 'relu'),\n",
        "    Dense(128, activation = 'relu'),\n",
        "    Dense(6, activation = \"softmax\")\n",
        "])\n",
        "\n",
        "Fifth_NN = Sequential([\n",
        "    Dense(102, activation = 'relu'),\n",
        "    Dense(1024, activation = \"relu\"),\n",
        "    Dense(512, activation = 'relu'),\n",
        "    Dense(256, activation = 'relu'),\n",
        "    Dense(128, activation = 'relu'),\n",
        "    Dense(64, activation = 'relu'),\n",
        "    Dense(32, activation = 'relu'),\n",
        "    Dense(24, activation = 'relu'),\n",
        "    Dense(6, activation = \"softmax\")\n",
        "])"
      ],
      "metadata": {
        "id": "MhxqUJpdovzu"
      },
      "execution_count": 59,
      "outputs": []
    },
    {
      "cell_type": "code",
      "source": [
        "First_NN.compile(optimizer='adam',\n",
        "              loss='categorical_crossentropy',\n",
        "              metrics=['accuracy'],\n",
        "              run_eagerly=True)\n",
        "\n",
        "Second_NN.compile(optimizer='adam',\n",
        "              loss='categorical_crossentropy',\n",
        "              metrics=['accuracy'],\n",
        "              run_eagerly=True)\n",
        "\n",
        "Third_NN.compile(optimizer='adam',\n",
        "              loss='categorical_crossentropy',\n",
        "              metrics=['accuracy'],\n",
        "              run_eagerly=True)\n",
        "\n",
        "Fourth_NN.compile(optimizer='adam',\n",
        "              loss='categorical_crossentropy',\n",
        "              metrics=['accuracy'],\n",
        "              run_eagerly=True)\n",
        "\n",
        "Fifth_NN.compile(optimizer='adam',\n",
        "              loss='categorical_crossentropy',\n",
        "              metrics=['accuracy'],\n",
        "              run_eagerly=True)"
      ],
      "metadata": {
        "id": "GDXfdgsF4qxW"
      },
      "execution_count": 60,
      "outputs": []
    },
    {
      "cell_type": "code",
      "source": [
        "# Entrenamiento del primer modelo\n",
        "history_first = First_NN.fit(Xtrain, Ytrain_one_hot, epochs=100, batch_size=1000, validation_split=0.2)"
      ],
      "metadata": {
        "colab": {
          "base_uri": "https://localhost:8080/"
        },
        "id": "02B4FnFJ8kF2",
        "outputId": "156a2139-792b-42f4-a7b9-91214d507a49"
      },
      "execution_count": 61,
      "outputs": [
        {
          "output_type": "stream",
          "name": "stdout",
          "text": [
            "Epoch 1/100\n",
            "6/6 [==============================] - 1s 61ms/step - loss: 1.5670 - accuracy: 0.3849 - val_loss: 1.2058 - val_accuracy: 0.6431\n",
            "Epoch 2/100\n",
            "6/6 [==============================] - 0s 46ms/step - loss: 0.9930 - accuracy: 0.7032 - val_loss: 0.7290 - val_accuracy: 0.7634\n",
            "Epoch 3/100\n",
            "6/6 [==============================] - 0s 39ms/step - loss: 0.6231 - accuracy: 0.7777 - val_loss: 0.4579 - val_accuracy: 0.8749\n",
            "Epoch 4/100\n",
            "6/6 [==============================] - 0s 44ms/step - loss: 0.4389 - accuracy: 0.8367 - val_loss: 0.3536 - val_accuracy: 0.8953\n",
            "Epoch 5/100\n",
            "6/6 [==============================] - 0s 37ms/step - loss: 0.3361 - accuracy: 0.8793 - val_loss: 0.3078 - val_accuracy: 0.8763\n",
            "Epoch 6/100\n",
            "6/6 [==============================] - 0s 38ms/step - loss: 0.2742 - accuracy: 0.8896 - val_loss: 0.2539 - val_accuracy: 0.9082\n",
            "Epoch 7/100\n",
            "6/6 [==============================] - 0s 37ms/step - loss: 0.2367 - accuracy: 0.9014 - val_loss: 0.2617 - val_accuracy: 0.8987\n",
            "Epoch 8/100\n",
            "6/6 [==============================] - 0s 37ms/step - loss: 0.2098 - accuracy: 0.9133 - val_loss: 0.2025 - val_accuracy: 0.9177\n",
            "Epoch 9/100\n",
            "6/6 [==============================] - 0s 42ms/step - loss: 0.1816 - accuracy: 0.9230 - val_loss: 0.1944 - val_accuracy: 0.9150\n",
            "Epoch 10/100\n",
            "6/6 [==============================] - 0s 40ms/step - loss: 0.1537 - accuracy: 0.9401 - val_loss: 0.2270 - val_accuracy: 0.9184\n",
            "Epoch 11/100\n",
            "6/6 [==============================] - 0s 45ms/step - loss: 0.1581 - accuracy: 0.9369 - val_loss: 0.2260 - val_accuracy: 0.9137\n",
            "Epoch 12/100\n",
            "6/6 [==============================] - 0s 44ms/step - loss: 0.1405 - accuracy: 0.9442 - val_loss: 0.1735 - val_accuracy: 0.9198\n",
            "Epoch 13/100\n",
            "6/6 [==============================] - 0s 41ms/step - loss: 0.1223 - accuracy: 0.9526 - val_loss: 0.1673 - val_accuracy: 0.9286\n",
            "Epoch 14/100\n",
            "6/6 [==============================] - 0s 38ms/step - loss: 0.1088 - accuracy: 0.9600 - val_loss: 0.1752 - val_accuracy: 0.9293\n",
            "Epoch 15/100\n",
            "6/6 [==============================] - 0s 40ms/step - loss: 0.1092 - accuracy: 0.9590 - val_loss: 0.1569 - val_accuracy: 0.9286\n",
            "Epoch 16/100\n",
            "6/6 [==============================] - 0s 39ms/step - loss: 0.1034 - accuracy: 0.9599 - val_loss: 0.2224 - val_accuracy: 0.9184\n",
            "Epoch 17/100\n",
            "6/6 [==============================] - 0s 43ms/step - loss: 0.1020 - accuracy: 0.9600 - val_loss: 0.1371 - val_accuracy: 0.9381\n",
            "Epoch 18/100\n",
            "6/6 [==============================] - 0s 38ms/step - loss: 0.0867 - accuracy: 0.9680 - val_loss: 0.1497 - val_accuracy: 0.9388\n",
            "Epoch 19/100\n",
            "6/6 [==============================] - 0s 37ms/step - loss: 0.0742 - accuracy: 0.9752 - val_loss: 0.1506 - val_accuracy: 0.9375\n",
            "Epoch 20/100\n",
            "6/6 [==============================] - 0s 44ms/step - loss: 0.0718 - accuracy: 0.9738 - val_loss: 0.1231 - val_accuracy: 0.9422\n",
            "Epoch 21/100\n",
            "6/6 [==============================] - 0s 57ms/step - loss: 0.0687 - accuracy: 0.9760 - val_loss: 0.1760 - val_accuracy: 0.9327\n",
            "Epoch 22/100\n",
            "6/6 [==============================] - 0s 53ms/step - loss: 0.0651 - accuracy: 0.9776 - val_loss: 0.1244 - val_accuracy: 0.9449\n",
            "Epoch 23/100\n",
            "6/6 [==============================] - 0s 55ms/step - loss: 0.0624 - accuracy: 0.9777 - val_loss: 0.1424 - val_accuracy: 0.9436\n",
            "Epoch 24/100\n",
            "6/6 [==============================] - 0s 51ms/step - loss: 0.0624 - accuracy: 0.9764 - val_loss: 0.1274 - val_accuracy: 0.9429\n",
            "Epoch 25/100\n",
            "6/6 [==============================] - 0s 51ms/step - loss: 0.0541 - accuracy: 0.9813 - val_loss: 0.1139 - val_accuracy: 0.9504\n",
            "Epoch 26/100\n",
            "6/6 [==============================] - 0s 56ms/step - loss: 0.0516 - accuracy: 0.9832 - val_loss: 0.1454 - val_accuracy: 0.9422\n",
            "Epoch 27/100\n",
            "6/6 [==============================] - 0s 55ms/step - loss: 0.0491 - accuracy: 0.9840 - val_loss: 0.1211 - val_accuracy: 0.9504\n",
            "Epoch 28/100\n",
            "6/6 [==============================] - 0s 58ms/step - loss: 0.0489 - accuracy: 0.9835 - val_loss: 0.1122 - val_accuracy: 0.9524\n",
            "Epoch 29/100\n",
            "6/6 [==============================] - 0s 52ms/step - loss: 0.0443 - accuracy: 0.9855 - val_loss: 0.1233 - val_accuracy: 0.9517\n",
            "Epoch 30/100\n",
            "6/6 [==============================] - 0s 53ms/step - loss: 0.0448 - accuracy: 0.9844 - val_loss: 0.1159 - val_accuracy: 0.9517\n",
            "Epoch 31/100\n",
            "6/6 [==============================] - 0s 54ms/step - loss: 0.0431 - accuracy: 0.9862 - val_loss: 0.1595 - val_accuracy: 0.9436\n",
            "Epoch 32/100\n",
            "6/6 [==============================] - 0s 51ms/step - loss: 0.0509 - accuracy: 0.9815 - val_loss: 0.1282 - val_accuracy: 0.9504\n",
            "Epoch 33/100\n",
            "6/6 [==============================] - 0s 57ms/step - loss: 0.0476 - accuracy: 0.9821 - val_loss: 0.1200 - val_accuracy: 0.9511\n",
            "Epoch 34/100\n",
            "6/6 [==============================] - 0s 56ms/step - loss: 0.0435 - accuracy: 0.9844 - val_loss: 0.1138 - val_accuracy: 0.9511\n",
            "Epoch 35/100\n",
            "6/6 [==============================] - 0s 47ms/step - loss: 0.0511 - accuracy: 0.9791 - val_loss: 0.1343 - val_accuracy: 0.9490\n",
            "Epoch 36/100\n",
            "6/6 [==============================] - 0s 38ms/step - loss: 0.0675 - accuracy: 0.9747 - val_loss: 0.2636 - val_accuracy: 0.9198\n",
            "Epoch 37/100\n",
            "6/6 [==============================] - 0s 38ms/step - loss: 0.0719 - accuracy: 0.9694 - val_loss: 0.1329 - val_accuracy: 0.9456\n",
            "Epoch 38/100\n",
            "6/6 [==============================] - 0s 41ms/step - loss: 0.0662 - accuracy: 0.9752 - val_loss: 0.2910 - val_accuracy: 0.9143\n",
            "Epoch 39/100\n",
            "6/6 [==============================] - 0s 46ms/step - loss: 0.0757 - accuracy: 0.9706 - val_loss: 0.1709 - val_accuracy: 0.9381\n",
            "Epoch 40/100\n",
            "6/6 [==============================] - 0s 39ms/step - loss: 0.0639 - accuracy: 0.9747 - val_loss: 0.1583 - val_accuracy: 0.9429\n",
            "Epoch 41/100\n",
            "6/6 [==============================] - 0s 38ms/step - loss: 0.0415 - accuracy: 0.9835 - val_loss: 0.1403 - val_accuracy: 0.9477\n",
            "Epoch 42/100\n",
            "6/6 [==============================] - 0s 41ms/step - loss: 0.0358 - accuracy: 0.9879 - val_loss: 0.1182 - val_accuracy: 0.9517\n",
            "Epoch 43/100\n",
            "6/6 [==============================] - 0s 44ms/step - loss: 0.0342 - accuracy: 0.9878 - val_loss: 0.1141 - val_accuracy: 0.9551\n",
            "Epoch 44/100\n",
            "6/6 [==============================] - 0s 37ms/step - loss: 0.0364 - accuracy: 0.9869 - val_loss: 0.1268 - val_accuracy: 0.9524\n",
            "Epoch 45/100\n",
            "6/6 [==============================] - 0s 38ms/step - loss: 0.0318 - accuracy: 0.9901 - val_loss: 0.1288 - val_accuracy: 0.9524\n",
            "Epoch 46/100\n",
            "6/6 [==============================] - 0s 38ms/step - loss: 0.0334 - accuracy: 0.9879 - val_loss: 0.1197 - val_accuracy: 0.9551\n",
            "Epoch 47/100\n",
            "6/6 [==============================] - 0s 38ms/step - loss: 0.0314 - accuracy: 0.9896 - val_loss: 0.1349 - val_accuracy: 0.9517\n",
            "Epoch 48/100\n",
            "6/6 [==============================] - 0s 40ms/step - loss: 0.0304 - accuracy: 0.9908 - val_loss: 0.1241 - val_accuracy: 0.9538\n",
            "Epoch 49/100\n",
            "6/6 [==============================] - 0s 37ms/step - loss: 0.0307 - accuracy: 0.9893 - val_loss: 0.1436 - val_accuracy: 0.9504\n",
            "Epoch 50/100\n",
            "6/6 [==============================] - 0s 38ms/step - loss: 0.0319 - accuracy: 0.9893 - val_loss: 0.1164 - val_accuracy: 0.9538\n",
            "Epoch 51/100\n",
            "6/6 [==============================] - 0s 38ms/step - loss: 0.0339 - accuracy: 0.9872 - val_loss: 0.1242 - val_accuracy: 0.9545\n",
            "Epoch 52/100\n",
            "6/6 [==============================] - 0s 37ms/step - loss: 0.0317 - accuracy: 0.9891 - val_loss: 0.1192 - val_accuracy: 0.9565\n",
            "Epoch 53/100\n",
            "6/6 [==============================] - 0s 38ms/step - loss: 0.0284 - accuracy: 0.9903 - val_loss: 0.1219 - val_accuracy: 0.9511\n",
            "Epoch 54/100\n",
            "6/6 [==============================] - 0s 44ms/step - loss: 0.0292 - accuracy: 0.9898 - val_loss: 0.1249 - val_accuracy: 0.9558\n",
            "Epoch 55/100\n",
            "6/6 [==============================] - 0s 40ms/step - loss: 0.0359 - accuracy: 0.9862 - val_loss: 0.1234 - val_accuracy: 0.9565\n",
            "Epoch 56/100\n",
            "6/6 [==============================] - 0s 37ms/step - loss: 0.0299 - accuracy: 0.9895 - val_loss: 0.1257 - val_accuracy: 0.9565\n",
            "Epoch 57/100\n",
            "6/6 [==============================] - 0s 40ms/step - loss: 0.0261 - accuracy: 0.9915 - val_loss: 0.1304 - val_accuracy: 0.9565\n",
            "Epoch 58/100\n",
            "6/6 [==============================] - 0s 39ms/step - loss: 0.0297 - accuracy: 0.9898 - val_loss: 0.1272 - val_accuracy: 0.9551\n",
            "Epoch 59/100\n",
            "6/6 [==============================] - 0s 47ms/step - loss: 0.0249 - accuracy: 0.9910 - val_loss: 0.1294 - val_accuracy: 0.9545\n",
            "Epoch 60/100\n",
            "6/6 [==============================] - 0s 38ms/step - loss: 0.0283 - accuracy: 0.9896 - val_loss: 0.1182 - val_accuracy: 0.9572\n",
            "Epoch 61/100\n",
            "6/6 [==============================] - 0s 41ms/step - loss: 0.0280 - accuracy: 0.9903 - val_loss: 0.1256 - val_accuracy: 0.9565\n",
            "Epoch 62/100\n",
            "6/6 [==============================] - 0s 38ms/step - loss: 0.0250 - accuracy: 0.9913 - val_loss: 0.1272 - val_accuracy: 0.9565\n",
            "Epoch 63/100\n",
            "6/6 [==============================] - 0s 41ms/step - loss: 0.0286 - accuracy: 0.9883 - val_loss: 0.1338 - val_accuracy: 0.9538\n",
            "Epoch 64/100\n",
            "6/6 [==============================] - 0s 39ms/step - loss: 0.0310 - accuracy: 0.9881 - val_loss: 0.1579 - val_accuracy: 0.9490\n",
            "Epoch 65/100\n",
            "6/6 [==============================] - 0s 44ms/step - loss: 0.0386 - accuracy: 0.9842 - val_loss: 0.1450 - val_accuracy: 0.9477\n",
            "Epoch 66/100\n",
            "6/6 [==============================] - 0s 46ms/step - loss: 0.0620 - accuracy: 0.9760 - val_loss: 0.2646 - val_accuracy: 0.9313\n",
            "Epoch 67/100\n",
            "6/6 [==============================] - 0s 45ms/step - loss: 0.0892 - accuracy: 0.9626 - val_loss: 0.1396 - val_accuracy: 0.9483\n",
            "Epoch 68/100\n",
            "6/6 [==============================] - 0s 37ms/step - loss: 0.0347 - accuracy: 0.9854 - val_loss: 0.1297 - val_accuracy: 0.9511\n",
            "Epoch 69/100\n",
            "6/6 [==============================] - 0s 40ms/step - loss: 0.0284 - accuracy: 0.9912 - val_loss: 0.1490 - val_accuracy: 0.9524\n",
            "Epoch 70/100\n",
            "6/6 [==============================] - 0s 41ms/step - loss: 0.0336 - accuracy: 0.9874 - val_loss: 0.1233 - val_accuracy: 0.9545\n",
            "Epoch 71/100\n",
            "6/6 [==============================] - 0s 44ms/step - loss: 0.0313 - accuracy: 0.9888 - val_loss: 0.1244 - val_accuracy: 0.9531\n",
            "Epoch 72/100\n",
            "6/6 [==============================] - 0s 37ms/step - loss: 0.0274 - accuracy: 0.9912 - val_loss: 0.1428 - val_accuracy: 0.9504\n",
            "Epoch 73/100\n",
            "6/6 [==============================] - 0s 38ms/step - loss: 0.0242 - accuracy: 0.9927 - val_loss: 0.1480 - val_accuracy: 0.9497\n",
            "Epoch 74/100\n",
            "6/6 [==============================] - 0s 41ms/step - loss: 0.0267 - accuracy: 0.9906 - val_loss: 0.1277 - val_accuracy: 0.9572\n",
            "Epoch 75/100\n",
            "6/6 [==============================] - 0s 40ms/step - loss: 0.0347 - accuracy: 0.9878 - val_loss: 0.1970 - val_accuracy: 0.9429\n",
            "Epoch 76/100\n",
            "6/6 [==============================] - 0s 46ms/step - loss: 0.0347 - accuracy: 0.9876 - val_loss: 0.1523 - val_accuracy: 0.9504\n",
            "Epoch 77/100\n",
            "6/6 [==============================] - 0s 46ms/step - loss: 0.0219 - accuracy: 0.9925 - val_loss: 0.1423 - val_accuracy: 0.9524\n",
            "Epoch 78/100\n",
            "6/6 [==============================] - 0s 60ms/step - loss: 0.0223 - accuracy: 0.9920 - val_loss: 0.1255 - val_accuracy: 0.9585\n",
            "Epoch 79/100\n",
            "6/6 [==============================] - 0s 56ms/step - loss: 0.0224 - accuracy: 0.9930 - val_loss: 0.1254 - val_accuracy: 0.9572\n",
            "Epoch 80/100\n",
            "6/6 [==============================] - 0s 47ms/step - loss: 0.0192 - accuracy: 0.9935 - val_loss: 0.1341 - val_accuracy: 0.9585\n",
            "Epoch 81/100\n",
            "6/6 [==============================] - 0s 56ms/step - loss: 0.0188 - accuracy: 0.9942 - val_loss: 0.1467 - val_accuracy: 0.9524\n",
            "Epoch 82/100\n",
            "6/6 [==============================] - 0s 55ms/step - loss: 0.0197 - accuracy: 0.9934 - val_loss: 0.1255 - val_accuracy: 0.9579\n",
            "Epoch 83/100\n",
            "6/6 [==============================] - 0s 57ms/step - loss: 0.0203 - accuracy: 0.9927 - val_loss: 0.1371 - val_accuracy: 0.9545\n",
            "Epoch 84/100\n",
            "6/6 [==============================] - 0s 55ms/step - loss: 0.0194 - accuracy: 0.9932 - val_loss: 0.1619 - val_accuracy: 0.9511\n",
            "Epoch 85/100\n",
            "6/6 [==============================] - 0s 57ms/step - loss: 0.0218 - accuracy: 0.9918 - val_loss: 0.1369 - val_accuracy: 0.9565\n",
            "Epoch 86/100\n",
            "6/6 [==============================] - 0s 51ms/step - loss: 0.0226 - accuracy: 0.9920 - val_loss: 0.1387 - val_accuracy: 0.9551\n",
            "Epoch 87/100\n",
            "6/6 [==============================] - 0s 52ms/step - loss: 0.0178 - accuracy: 0.9927 - val_loss: 0.1536 - val_accuracy: 0.9538\n",
            "Epoch 88/100\n",
            "6/6 [==============================] - 0s 58ms/step - loss: 0.0244 - accuracy: 0.9906 - val_loss: 0.1338 - val_accuracy: 0.9551\n",
            "Epoch 89/100\n",
            "6/6 [==============================] - 0s 51ms/step - loss: 0.0177 - accuracy: 0.9939 - val_loss: 0.1341 - val_accuracy: 0.9572\n",
            "Epoch 90/100\n",
            "6/6 [==============================] - 0s 66ms/step - loss: 0.0186 - accuracy: 0.9937 - val_loss: 0.1312 - val_accuracy: 0.9592\n",
            "Epoch 91/100\n",
            "6/6 [==============================] - 0s 65ms/step - loss: 0.0237 - accuracy: 0.9910 - val_loss: 0.2072 - val_accuracy: 0.9456\n",
            "Epoch 92/100\n",
            "6/6 [==============================] - 0s 39ms/step - loss: 0.0248 - accuracy: 0.9898 - val_loss: 0.1361 - val_accuracy: 0.9565\n",
            "Epoch 93/100\n",
            "6/6 [==============================] - 0s 47ms/step - loss: 0.0214 - accuracy: 0.9925 - val_loss: 0.1391 - val_accuracy: 0.9551\n",
            "Epoch 94/100\n",
            "6/6 [==============================] - 0s 38ms/step - loss: 0.0169 - accuracy: 0.9951 - val_loss: 0.1420 - val_accuracy: 0.9524\n",
            "Epoch 95/100\n",
            "6/6 [==============================] - 0s 41ms/step - loss: 0.0213 - accuracy: 0.9922 - val_loss: 0.1351 - val_accuracy: 0.9565\n",
            "Epoch 96/100\n",
            "6/6 [==============================] - 0s 39ms/step - loss: 0.0183 - accuracy: 0.9939 - val_loss: 0.1336 - val_accuracy: 0.9599\n",
            "Epoch 97/100\n",
            "6/6 [==============================] - 0s 37ms/step - loss: 0.0151 - accuracy: 0.9949 - val_loss: 0.1421 - val_accuracy: 0.9551\n",
            "Epoch 98/100\n",
            "6/6 [==============================] - 0s 36ms/step - loss: 0.0140 - accuracy: 0.9961 - val_loss: 0.1746 - val_accuracy: 0.9511\n",
            "Epoch 99/100\n",
            "6/6 [==============================] - 0s 43ms/step - loss: 0.0167 - accuracy: 0.9939 - val_loss: 0.1425 - val_accuracy: 0.9558\n",
            "Epoch 100/100\n",
            "6/6 [==============================] - 0s 39ms/step - loss: 0.0126 - accuracy: 0.9957 - val_loss: 0.1417 - val_accuracy: 0.9558\n"
          ]
        }
      ]
    },
    {
      "cell_type": "code",
      "source": [
        "# Entrenamiento del segundo modelo\n",
        "history_second = Second_NN.fit(Xtrain, Ytrain_one_hot, epochs=100, batch_size=1000, validation_split=0.2)"
      ],
      "metadata": {
        "colab": {
          "base_uri": "https://localhost:8080/"
        },
        "id": "HiVphKtDNGdO",
        "outputId": "efb1e3c1-f8de-4195-b21b-1aec53978d22"
      },
      "execution_count": 62,
      "outputs": [
        {
          "output_type": "stream",
          "name": "stdout",
          "text": [
            "Epoch 1/100\n",
            "6/6 [==============================] - 2s 79ms/step - loss: 1.6102 - accuracy: 0.3629 - val_loss: 1.3224 - val_accuracy: 0.5785\n",
            "Epoch 2/100\n",
            "6/6 [==============================] - 0s 58ms/step - loss: 1.1279 - accuracy: 0.6638 - val_loss: 0.8477 - val_accuracy: 0.7784\n",
            "Epoch 3/100\n",
            "6/6 [==============================] - 0s 54ms/step - loss: 0.7582 - accuracy: 0.7709 - val_loss: 0.5916 - val_accuracy: 0.8749\n",
            "Epoch 4/100\n",
            "6/6 [==============================] - 0s 53ms/step - loss: 0.5666 - accuracy: 0.8083 - val_loss: 0.4584 - val_accuracy: 0.8491\n",
            "Epoch 5/100\n",
            "6/6 [==============================] - 0s 50ms/step - loss: 0.4523 - accuracy: 0.8423 - val_loss: 0.3510 - val_accuracy: 0.9055\n",
            "Epoch 6/100\n",
            "6/6 [==============================] - 0s 53ms/step - loss: 0.3681 - accuracy: 0.8590 - val_loss: 0.2903 - val_accuracy: 0.9096\n",
            "Epoch 7/100\n",
            "6/6 [==============================] - 0s 55ms/step - loss: 0.3154 - accuracy: 0.8789 - val_loss: 0.2577 - val_accuracy: 0.9028\n",
            "Epoch 8/100\n",
            "6/6 [==============================] - 0s 58ms/step - loss: 0.2792 - accuracy: 0.8888 - val_loss: 0.2581 - val_accuracy: 0.9021\n",
            "Epoch 9/100\n",
            "6/6 [==============================] - 0s 59ms/step - loss: 0.2474 - accuracy: 0.9002 - val_loss: 0.2351 - val_accuracy: 0.8953\n",
            "Epoch 10/100\n",
            "6/6 [==============================] - 0s 46ms/step - loss: 0.2153 - accuracy: 0.9122 - val_loss: 0.2057 - val_accuracy: 0.9273\n",
            "Epoch 11/100\n",
            "6/6 [==============================] - 0s 48ms/step - loss: 0.1893 - accuracy: 0.9272 - val_loss: 0.1820 - val_accuracy: 0.9293\n",
            "Epoch 12/100\n",
            "6/6 [==============================] - 0s 45ms/step - loss: 0.1740 - accuracy: 0.9337 - val_loss: 0.2108 - val_accuracy: 0.9150\n",
            "Epoch 13/100\n",
            "6/6 [==============================] - 0s 39ms/step - loss: 0.1631 - accuracy: 0.9359 - val_loss: 0.1776 - val_accuracy: 0.9211\n",
            "Epoch 14/100\n",
            "6/6 [==============================] - 0s 39ms/step - loss: 0.1456 - accuracy: 0.9452 - val_loss: 0.1771 - val_accuracy: 0.9327\n",
            "Epoch 15/100\n",
            "6/6 [==============================] - 0s 48ms/step - loss: 0.1403 - accuracy: 0.9476 - val_loss: 0.1578 - val_accuracy: 0.9334\n",
            "Epoch 16/100\n",
            "6/6 [==============================] - 0s 41ms/step - loss: 0.1282 - accuracy: 0.9515 - val_loss: 0.1675 - val_accuracy: 0.9313\n",
            "Epoch 17/100\n",
            "6/6 [==============================] - 0s 45ms/step - loss: 0.1161 - accuracy: 0.9575 - val_loss: 0.1990 - val_accuracy: 0.9205\n",
            "Epoch 18/100\n",
            "6/6 [==============================] - 0s 37ms/step - loss: 0.1104 - accuracy: 0.9600 - val_loss: 0.1461 - val_accuracy: 0.9354\n",
            "Epoch 19/100\n",
            "6/6 [==============================] - 0s 48ms/step - loss: 0.0991 - accuracy: 0.9665 - val_loss: 0.1465 - val_accuracy: 0.9422\n",
            "Epoch 20/100\n",
            "6/6 [==============================] - 0s 38ms/step - loss: 0.0923 - accuracy: 0.9679 - val_loss: 0.1388 - val_accuracy: 0.9354\n",
            "Epoch 21/100\n",
            "6/6 [==============================] - 0s 39ms/step - loss: 0.0869 - accuracy: 0.9692 - val_loss: 0.1572 - val_accuracy: 0.9327\n",
            "Epoch 22/100\n",
            "6/6 [==============================] - 0s 45ms/step - loss: 0.0850 - accuracy: 0.9687 - val_loss: 0.1296 - val_accuracy: 0.9415\n",
            "Epoch 23/100\n",
            "6/6 [==============================] - 0s 40ms/step - loss: 0.0817 - accuracy: 0.9709 - val_loss: 0.1799 - val_accuracy: 0.9300\n",
            "Epoch 24/100\n",
            "6/6 [==============================] - 0s 45ms/step - loss: 0.0764 - accuracy: 0.9721 - val_loss: 0.1486 - val_accuracy: 0.9361\n",
            "Epoch 25/100\n",
            "6/6 [==============================] - 0s 39ms/step - loss: 0.0665 - accuracy: 0.9801 - val_loss: 0.1262 - val_accuracy: 0.9415\n",
            "Epoch 26/100\n",
            "6/6 [==============================] - 0s 38ms/step - loss: 0.0670 - accuracy: 0.9777 - val_loss: 0.1230 - val_accuracy: 0.9443\n",
            "Epoch 27/100\n",
            "6/6 [==============================] - 0s 44ms/step - loss: 0.0633 - accuracy: 0.9793 - val_loss: 0.1956 - val_accuracy: 0.9232\n",
            "Epoch 28/100\n",
            "6/6 [==============================] - 0s 39ms/step - loss: 0.0728 - accuracy: 0.9752 - val_loss: 0.1309 - val_accuracy: 0.9470\n",
            "Epoch 29/100\n",
            "6/6 [==============================] - 0s 38ms/step - loss: 0.0720 - accuracy: 0.9713 - val_loss: 0.1282 - val_accuracy: 0.9449\n",
            "Epoch 30/100\n",
            "6/6 [==============================] - 0s 37ms/step - loss: 0.0723 - accuracy: 0.9728 - val_loss: 0.1444 - val_accuracy: 0.9422\n",
            "Epoch 31/100\n",
            "6/6 [==============================] - 0s 37ms/step - loss: 0.0550 - accuracy: 0.9827 - val_loss: 0.1343 - val_accuracy: 0.9456\n",
            "Epoch 32/100\n",
            "6/6 [==============================] - 0s 45ms/step - loss: 0.0516 - accuracy: 0.9844 - val_loss: 0.1239 - val_accuracy: 0.9449\n",
            "Epoch 33/100\n",
            "6/6 [==============================] - 0s 37ms/step - loss: 0.0488 - accuracy: 0.9854 - val_loss: 0.1380 - val_accuracy: 0.9449\n",
            "Epoch 34/100\n",
            "6/6 [==============================] - 0s 42ms/step - loss: 0.0508 - accuracy: 0.9838 - val_loss: 0.1495 - val_accuracy: 0.9436\n",
            "Epoch 35/100\n",
            "6/6 [==============================] - 0s 38ms/step - loss: 0.0474 - accuracy: 0.9857 - val_loss: 0.1299 - val_accuracy: 0.9470\n",
            "Epoch 36/100\n",
            "6/6 [==============================] - 0s 48ms/step - loss: 0.0460 - accuracy: 0.9857 - val_loss: 0.1212 - val_accuracy: 0.9477\n",
            "Epoch 37/100\n",
            "6/6 [==============================] - 0s 38ms/step - loss: 0.0471 - accuracy: 0.9835 - val_loss: 0.1646 - val_accuracy: 0.9381\n",
            "Epoch 38/100\n",
            "6/6 [==============================] - 0s 44ms/step - loss: 0.0440 - accuracy: 0.9864 - val_loss: 0.1309 - val_accuracy: 0.9449\n",
            "Epoch 39/100\n",
            "6/6 [==============================] - 0s 38ms/step - loss: 0.0426 - accuracy: 0.9871 - val_loss: 0.1382 - val_accuracy: 0.9483\n",
            "Epoch 40/100\n",
            "6/6 [==============================] - 0s 41ms/step - loss: 0.0428 - accuracy: 0.9879 - val_loss: 0.1338 - val_accuracy: 0.9477\n",
            "Epoch 41/100\n",
            "6/6 [==============================] - 0s 47ms/step - loss: 0.0456 - accuracy: 0.9844 - val_loss: 0.1234 - val_accuracy: 0.9524\n",
            "Epoch 42/100\n",
            "6/6 [==============================] - 0s 40ms/step - loss: 0.0555 - accuracy: 0.9803 - val_loss: 0.2099 - val_accuracy: 0.9307\n",
            "Epoch 43/100\n",
            "6/6 [==============================] - 0s 42ms/step - loss: 0.0519 - accuracy: 0.9793 - val_loss: 0.1310 - val_accuracy: 0.9511\n",
            "Epoch 44/100\n",
            "6/6 [==============================] - 0s 48ms/step - loss: 0.0469 - accuracy: 0.9835 - val_loss: 0.1367 - val_accuracy: 0.9463\n",
            "Epoch 45/100\n",
            "6/6 [==============================] - 0s 42ms/step - loss: 0.0373 - accuracy: 0.9879 - val_loss: 0.1329 - val_accuracy: 0.9483\n",
            "Epoch 46/100\n",
            "6/6 [==============================] - 0s 42ms/step - loss: 0.0404 - accuracy: 0.9857 - val_loss: 0.1246 - val_accuracy: 0.9490\n",
            "Epoch 47/100\n",
            "6/6 [==============================] - 0s 40ms/step - loss: 0.0406 - accuracy: 0.9850 - val_loss: 0.1783 - val_accuracy: 0.9409\n",
            "Epoch 48/100\n",
            "6/6 [==============================] - 0s 42ms/step - loss: 0.0430 - accuracy: 0.9854 - val_loss: 0.1320 - val_accuracy: 0.9524\n",
            "Epoch 49/100\n",
            "6/6 [==============================] - 0s 44ms/step - loss: 0.0450 - accuracy: 0.9842 - val_loss: 0.1684 - val_accuracy: 0.9422\n",
            "Epoch 50/100\n",
            "6/6 [==============================] - 0s 43ms/step - loss: 0.0380 - accuracy: 0.9874 - val_loss: 0.1480 - val_accuracy: 0.9483\n",
            "Epoch 51/100\n",
            "6/6 [==============================] - 0s 60ms/step - loss: 0.0400 - accuracy: 0.9867 - val_loss: 0.1461 - val_accuracy: 0.9449\n",
            "Epoch 52/100\n",
            "6/6 [==============================] - 0s 64ms/step - loss: 0.0520 - accuracy: 0.9811 - val_loss: 0.2488 - val_accuracy: 0.9293\n",
            "Epoch 53/100\n",
            "6/6 [==============================] - 0s 52ms/step - loss: 0.0637 - accuracy: 0.9748 - val_loss: 0.1601 - val_accuracy: 0.9443\n",
            "Epoch 54/100\n",
            "6/6 [==============================] - 0s 54ms/step - loss: 0.0525 - accuracy: 0.9796 - val_loss: 0.2165 - val_accuracy: 0.9341\n",
            "Epoch 55/100\n",
            "6/6 [==============================] - 0s 54ms/step - loss: 0.0420 - accuracy: 0.9847 - val_loss: 0.1472 - val_accuracy: 0.9456\n",
            "Epoch 56/100\n",
            "6/6 [==============================] - 0s 57ms/step - loss: 0.0313 - accuracy: 0.9896 - val_loss: 0.1333 - val_accuracy: 0.9483\n",
            "Epoch 57/100\n",
            "6/6 [==============================] - 0s 59ms/step - loss: 0.0298 - accuracy: 0.9920 - val_loss: 0.1360 - val_accuracy: 0.9511\n",
            "Epoch 58/100\n",
            "6/6 [==============================] - 0s 57ms/step - loss: 0.0318 - accuracy: 0.9895 - val_loss: 0.1431 - val_accuracy: 0.9477\n",
            "Epoch 59/100\n",
            "6/6 [==============================] - 0s 51ms/step - loss: 0.0301 - accuracy: 0.9903 - val_loss: 0.1548 - val_accuracy: 0.9497\n",
            "Epoch 60/100\n",
            "6/6 [==============================] - 0s 52ms/step - loss: 0.0318 - accuracy: 0.9888 - val_loss: 0.1383 - val_accuracy: 0.9483\n",
            "Epoch 61/100\n",
            "6/6 [==============================] - 0s 54ms/step - loss: 0.0305 - accuracy: 0.9889 - val_loss: 0.1345 - val_accuracy: 0.9497\n",
            "Epoch 62/100\n",
            "6/6 [==============================] - 0s 51ms/step - loss: 0.0282 - accuracy: 0.9912 - val_loss: 0.1599 - val_accuracy: 0.9477\n",
            "Epoch 63/100\n",
            "6/6 [==============================] - 0s 57ms/step - loss: 0.0258 - accuracy: 0.9912 - val_loss: 0.1612 - val_accuracy: 0.9483\n",
            "Epoch 64/100\n",
            "6/6 [==============================] - 0s 56ms/step - loss: 0.0286 - accuracy: 0.9895 - val_loss: 0.1377 - val_accuracy: 0.9490\n",
            "Epoch 65/100\n",
            "6/6 [==============================] - 0s 52ms/step - loss: 0.0317 - accuracy: 0.9893 - val_loss: 0.1530 - val_accuracy: 0.9504\n",
            "Epoch 66/100\n",
            "6/6 [==============================] - 0s 47ms/step - loss: 0.0330 - accuracy: 0.9896 - val_loss: 0.1450 - val_accuracy: 0.9497\n",
            "Epoch 67/100\n",
            "6/6 [==============================] - 0s 40ms/step - loss: 0.0505 - accuracy: 0.9794 - val_loss: 0.2207 - val_accuracy: 0.9381\n",
            "Epoch 68/100\n",
            "6/6 [==============================] - 0s 38ms/step - loss: 0.0430 - accuracy: 0.9827 - val_loss: 0.1408 - val_accuracy: 0.9477\n",
            "Epoch 69/100\n",
            "6/6 [==============================] - 0s 42ms/step - loss: 0.0415 - accuracy: 0.9835 - val_loss: 0.1374 - val_accuracy: 0.9504\n",
            "Epoch 70/100\n",
            "6/6 [==============================] - 0s 39ms/step - loss: 0.0334 - accuracy: 0.9884 - val_loss: 0.1710 - val_accuracy: 0.9483\n",
            "Epoch 71/100\n",
            "6/6 [==============================] - 0s 47ms/step - loss: 0.0324 - accuracy: 0.9886 - val_loss: 0.1716 - val_accuracy: 0.9470\n",
            "Epoch 72/100\n",
            "6/6 [==============================] - 0s 40ms/step - loss: 0.0275 - accuracy: 0.9905 - val_loss: 0.1473 - val_accuracy: 0.9497\n",
            "Epoch 73/100\n",
            "6/6 [==============================] - 0s 41ms/step - loss: 0.0227 - accuracy: 0.9937 - val_loss: 0.1683 - val_accuracy: 0.9483\n",
            "Epoch 74/100\n",
            "6/6 [==============================] - 0s 45ms/step - loss: 0.0224 - accuracy: 0.9927 - val_loss: 0.1432 - val_accuracy: 0.9504\n",
            "Epoch 75/100\n",
            "6/6 [==============================] - 0s 45ms/step - loss: 0.0211 - accuracy: 0.9939 - val_loss: 0.1510 - val_accuracy: 0.9497\n",
            "Epoch 76/100\n",
            "6/6 [==============================] - 0s 40ms/step - loss: 0.0238 - accuracy: 0.9915 - val_loss: 0.1715 - val_accuracy: 0.9490\n",
            "Epoch 77/100\n",
            "6/6 [==============================] - 0s 40ms/step - loss: 0.0222 - accuracy: 0.9918 - val_loss: 0.1506 - val_accuracy: 0.9511\n",
            "Epoch 78/100\n",
            "6/6 [==============================] - 0s 40ms/step - loss: 0.0214 - accuracy: 0.9932 - val_loss: 0.1483 - val_accuracy: 0.9511\n",
            "Epoch 79/100\n",
            "6/6 [==============================] - 0s 38ms/step - loss: 0.0221 - accuracy: 0.9929 - val_loss: 0.1867 - val_accuracy: 0.9449\n",
            "Epoch 80/100\n",
            "6/6 [==============================] - 0s 36ms/step - loss: 0.0200 - accuracy: 0.9939 - val_loss: 0.1595 - val_accuracy: 0.9517\n",
            "Epoch 81/100\n",
            "6/6 [==============================] - 0s 38ms/step - loss: 0.0229 - accuracy: 0.9925 - val_loss: 0.1769 - val_accuracy: 0.9490\n",
            "Epoch 82/100\n",
            "6/6 [==============================] - 0s 46ms/step - loss: 0.0193 - accuracy: 0.9937 - val_loss: 0.1566 - val_accuracy: 0.9504\n",
            "Epoch 83/100\n",
            "6/6 [==============================] - 0s 38ms/step - loss: 0.0216 - accuracy: 0.9934 - val_loss: 0.1936 - val_accuracy: 0.9477\n",
            "Epoch 84/100\n",
            "6/6 [==============================] - 0s 45ms/step - loss: 0.0201 - accuracy: 0.9923 - val_loss: 0.1724 - val_accuracy: 0.9470\n",
            "Epoch 85/100\n",
            "6/6 [==============================] - 0s 38ms/step - loss: 0.0162 - accuracy: 0.9956 - val_loss: 0.1776 - val_accuracy: 0.9504\n",
            "Epoch 86/100\n",
            "6/6 [==============================] - 0s 40ms/step - loss: 0.0180 - accuracy: 0.9935 - val_loss: 0.1652 - val_accuracy: 0.9483\n",
            "Epoch 87/100\n",
            "6/6 [==============================] - 0s 39ms/step - loss: 0.0154 - accuracy: 0.9957 - val_loss: 0.1644 - val_accuracy: 0.9524\n",
            "Epoch 88/100\n",
            "6/6 [==============================] - 0s 39ms/step - loss: 0.0158 - accuracy: 0.9942 - val_loss: 0.1559 - val_accuracy: 0.9524\n",
            "Epoch 89/100\n",
            "6/6 [==============================] - 0s 46ms/step - loss: 0.0196 - accuracy: 0.9922 - val_loss: 0.2006 - val_accuracy: 0.9463\n",
            "Epoch 90/100\n",
            "6/6 [==============================] - 0s 43ms/step - loss: 0.0179 - accuracy: 0.9937 - val_loss: 0.1901 - val_accuracy: 0.9449\n",
            "Epoch 91/100\n",
            "6/6 [==============================] - 0s 46ms/step - loss: 0.0217 - accuracy: 0.9923 - val_loss: 0.1590 - val_accuracy: 0.9524\n",
            "Epoch 92/100\n",
            "6/6 [==============================] - 0s 42ms/step - loss: 0.0327 - accuracy: 0.9859 - val_loss: 0.1975 - val_accuracy: 0.9470\n",
            "Epoch 93/100\n",
            "6/6 [==============================] - 0s 41ms/step - loss: 0.0509 - accuracy: 0.9798 - val_loss: 0.1579 - val_accuracy: 0.9511\n",
            "Epoch 94/100\n",
            "6/6 [==============================] - 0s 47ms/step - loss: 0.0742 - accuracy: 0.9740 - val_loss: 0.1711 - val_accuracy: 0.9470\n",
            "Epoch 95/100\n",
            "6/6 [==============================] - 0s 43ms/step - loss: 0.0571 - accuracy: 0.9757 - val_loss: 0.2130 - val_accuracy: 0.9375\n",
            "Epoch 96/100\n",
            "6/6 [==============================] - 0s 41ms/step - loss: 0.0294 - accuracy: 0.9908 - val_loss: 0.2014 - val_accuracy: 0.9422\n",
            "Epoch 97/100\n",
            "6/6 [==============================] - 0s 39ms/step - loss: 0.0320 - accuracy: 0.9879 - val_loss: 0.1462 - val_accuracy: 0.9477\n",
            "Epoch 98/100\n",
            "6/6 [==============================] - 0s 49ms/step - loss: 0.0293 - accuracy: 0.9898 - val_loss: 0.1541 - val_accuracy: 0.9456\n",
            "Epoch 99/100\n",
            "6/6 [==============================] - 0s 38ms/step - loss: 0.0196 - accuracy: 0.9929 - val_loss: 0.1547 - val_accuracy: 0.9470\n",
            "Epoch 100/100\n",
            "6/6 [==============================] - 0s 41ms/step - loss: 0.0197 - accuracy: 0.9935 - val_loss: 0.1607 - val_accuracy: 0.9470\n"
          ]
        }
      ]
    },
    {
      "cell_type": "code",
      "source": [
        "# Entrenamiento del tercer modelo\n",
        "history_third = Third_NN.fit(Xtrain, Ytrain_one_hot, epochs=100, batch_size=1000, validation_split=0.2)"
      ],
      "metadata": {
        "colab": {
          "base_uri": "https://localhost:8080/"
        },
        "id": "p96Pqk5PNJTS",
        "outputId": "808c9054-d304-4713-8f1d-30adaabd04c2"
      },
      "execution_count": 63,
      "outputs": [
        {
          "output_type": "stream",
          "name": "stdout",
          "text": [
            "Epoch 1/100\n",
            "6/6 [==============================] - 1s 48ms/step - loss: 1.5634 - accuracy: 0.4333 - val_loss: 1.1394 - val_accuracy: 0.7226\n",
            "Epoch 2/100\n",
            "6/6 [==============================] - 0s 36ms/step - loss: 0.9280 - accuracy: 0.7532 - val_loss: 0.7119 - val_accuracy: 0.7240\n",
            "Epoch 3/100\n",
            "6/6 [==============================] - 0s 44ms/step - loss: 0.6146 - accuracy: 0.7985 - val_loss: 0.4772 - val_accuracy: 0.8586\n",
            "Epoch 4/100\n",
            "6/6 [==============================] - 0s 35ms/step - loss: 0.4443 - accuracy: 0.8500 - val_loss: 0.3570 - val_accuracy: 0.9021\n",
            "Epoch 5/100\n",
            "6/6 [==============================] - 0s 34ms/step - loss: 0.3356 - accuracy: 0.8786 - val_loss: 0.2782 - val_accuracy: 0.9171\n",
            "Epoch 6/100\n",
            "6/6 [==============================] - 0s 42ms/step - loss: 0.2733 - accuracy: 0.8963 - val_loss: 0.2385 - val_accuracy: 0.9143\n",
            "Epoch 7/100\n",
            "6/6 [==============================] - 0s 37ms/step - loss: 0.2266 - accuracy: 0.9146 - val_loss: 0.2023 - val_accuracy: 0.9388\n",
            "Epoch 8/100\n",
            "6/6 [==============================] - 0s 37ms/step - loss: 0.1914 - accuracy: 0.9282 - val_loss: 0.1827 - val_accuracy: 0.9279\n",
            "Epoch 9/100\n",
            "6/6 [==============================] - 0s 41ms/step - loss: 0.1681 - accuracy: 0.9357 - val_loss: 0.1695 - val_accuracy: 0.9279\n",
            "Epoch 10/100\n",
            "6/6 [==============================] - 0s 42ms/step - loss: 0.1450 - accuracy: 0.9442 - val_loss: 0.1641 - val_accuracy: 0.9307\n",
            "Epoch 11/100\n",
            "6/6 [==============================] - 0s 40ms/step - loss: 0.1307 - accuracy: 0.9539 - val_loss: 0.1444 - val_accuracy: 0.9381\n",
            "Epoch 12/100\n",
            "6/6 [==============================] - 0s 45ms/step - loss: 0.1204 - accuracy: 0.9554 - val_loss: 0.1363 - val_accuracy: 0.9436\n",
            "Epoch 13/100\n",
            "6/6 [==============================] - 0s 38ms/step - loss: 0.1078 - accuracy: 0.9634 - val_loss: 0.2036 - val_accuracy: 0.9171\n",
            "Epoch 14/100\n",
            "6/6 [==============================] - 0s 88ms/step - loss: 0.1049 - accuracy: 0.9607 - val_loss: 0.1371 - val_accuracy: 0.9463\n",
            "Epoch 15/100\n",
            "6/6 [==============================] - 1s 83ms/step - loss: 0.0979 - accuracy: 0.9650 - val_loss: 0.1191 - val_accuracy: 0.9456\n",
            "Epoch 16/100\n",
            "6/6 [==============================] - 1s 121ms/step - loss: 0.0861 - accuracy: 0.9699 - val_loss: 0.1341 - val_accuracy: 0.9415\n",
            "Epoch 17/100\n",
            "6/6 [==============================] - 1s 112ms/step - loss: 0.0784 - accuracy: 0.9735 - val_loss: 0.1583 - val_accuracy: 0.9313\n",
            "Epoch 18/100\n",
            "6/6 [==============================] - 0s 87ms/step - loss: 0.0736 - accuracy: 0.9750 - val_loss: 0.1738 - val_accuracy: 0.9307\n",
            "Epoch 19/100\n",
            "6/6 [==============================] - 0s 88ms/step - loss: 0.0732 - accuracy: 0.9753 - val_loss: 0.1179 - val_accuracy: 0.9504\n",
            "Epoch 20/100\n",
            "6/6 [==============================] - 0s 65ms/step - loss: 0.0646 - accuracy: 0.9781 - val_loss: 0.1272 - val_accuracy: 0.9415\n",
            "Epoch 21/100\n",
            "6/6 [==============================] - 0s 76ms/step - loss: 0.0593 - accuracy: 0.9804 - val_loss: 0.1423 - val_accuracy: 0.9395\n",
            "Epoch 22/100\n",
            "6/6 [==============================] - 0s 69ms/step - loss: 0.0555 - accuracy: 0.9823 - val_loss: 0.1104 - val_accuracy: 0.9511\n",
            "Epoch 23/100\n",
            "6/6 [==============================] - 1s 82ms/step - loss: 0.0612 - accuracy: 0.9777 - val_loss: 0.1695 - val_accuracy: 0.9327\n",
            "Epoch 24/100\n",
            "6/6 [==============================] - 1s 109ms/step - loss: 0.0551 - accuracy: 0.9798 - val_loss: 0.1373 - val_accuracy: 0.9443\n",
            "Epoch 25/100\n",
            "6/6 [==============================] - 1s 143ms/step - loss: 0.0499 - accuracy: 0.9825 - val_loss: 0.1156 - val_accuracy: 0.9483\n",
            "Epoch 26/100\n",
            "6/6 [==============================] - 0s 54ms/step - loss: 0.0517 - accuracy: 0.9837 - val_loss: 0.1237 - val_accuracy: 0.9524\n",
            "Epoch 27/100\n",
            "6/6 [==============================] - 0s 53ms/step - loss: 0.0609 - accuracy: 0.9769 - val_loss: 0.1850 - val_accuracy: 0.9334\n",
            "Epoch 28/100\n",
            "6/6 [==============================] - 0s 47ms/step - loss: 0.0544 - accuracy: 0.9794 - val_loss: 0.1191 - val_accuracy: 0.9483\n",
            "Epoch 29/100\n",
            "6/6 [==============================] - 0s 47ms/step - loss: 0.0437 - accuracy: 0.9844 - val_loss: 0.1223 - val_accuracy: 0.9490\n",
            "Epoch 30/100\n",
            "6/6 [==============================] - 0s 54ms/step - loss: 0.0388 - accuracy: 0.9888 - val_loss: 0.1175 - val_accuracy: 0.9483\n",
            "Epoch 31/100\n",
            "6/6 [==============================] - 0s 46ms/step - loss: 0.0392 - accuracy: 0.9879 - val_loss: 0.1217 - val_accuracy: 0.9497\n",
            "Epoch 32/100\n",
            "6/6 [==============================] - 0s 55ms/step - loss: 0.0380 - accuracy: 0.9876 - val_loss: 0.1382 - val_accuracy: 0.9463\n",
            "Epoch 33/100\n",
            "6/6 [==============================] - 0s 54ms/step - loss: 0.0494 - accuracy: 0.9827 - val_loss: 0.1616 - val_accuracy: 0.9429\n",
            "Epoch 34/100\n",
            "6/6 [==============================] - 0s 54ms/step - loss: 0.0777 - accuracy: 0.9677 - val_loss: 0.1227 - val_accuracy: 0.9463\n",
            "Epoch 35/100\n",
            "6/6 [==============================] - 0s 49ms/step - loss: 0.0581 - accuracy: 0.9767 - val_loss: 0.1306 - val_accuracy: 0.9477\n",
            "Epoch 36/100\n",
            "6/6 [==============================] - 0s 52ms/step - loss: 0.0540 - accuracy: 0.9791 - val_loss: 0.1275 - val_accuracy: 0.9456\n",
            "Epoch 37/100\n",
            "6/6 [==============================] - 0s 55ms/step - loss: 0.0403 - accuracy: 0.9854 - val_loss: 0.1235 - val_accuracy: 0.9456\n",
            "Epoch 38/100\n",
            "6/6 [==============================] - 0s 55ms/step - loss: 0.0356 - accuracy: 0.9869 - val_loss: 0.1406 - val_accuracy: 0.9463\n",
            "Epoch 39/100\n",
            "6/6 [==============================] - 0s 46ms/step - loss: 0.0347 - accuracy: 0.9893 - val_loss: 0.1240 - val_accuracy: 0.9477\n",
            "Epoch 40/100\n",
            "6/6 [==============================] - 0s 42ms/step - loss: 0.0311 - accuracy: 0.9903 - val_loss: 0.1207 - val_accuracy: 0.9490\n",
            "Epoch 41/100\n",
            "6/6 [==============================] - 0s 38ms/step - loss: 0.0297 - accuracy: 0.9900 - val_loss: 0.1375 - val_accuracy: 0.9463\n",
            "Epoch 42/100\n",
            "6/6 [==============================] - 0s 42ms/step - loss: 0.0306 - accuracy: 0.9906 - val_loss: 0.1230 - val_accuracy: 0.9490\n",
            "Epoch 43/100\n",
            "6/6 [==============================] - 0s 36ms/step - loss: 0.0374 - accuracy: 0.9872 - val_loss: 0.1464 - val_accuracy: 0.9463\n",
            "Epoch 44/100\n",
            "6/6 [==============================] - 0s 36ms/step - loss: 0.0300 - accuracy: 0.9903 - val_loss: 0.1242 - val_accuracy: 0.9483\n",
            "Epoch 45/100\n",
            "6/6 [==============================] - 0s 42ms/step - loss: 0.0279 - accuracy: 0.9912 - val_loss: 0.1475 - val_accuracy: 0.9463\n",
            "Epoch 46/100\n",
            "6/6 [==============================] - 0s 42ms/step - loss: 0.0273 - accuracy: 0.9913 - val_loss: 0.1334 - val_accuracy: 0.9470\n",
            "Epoch 47/100\n",
            "6/6 [==============================] - 0s 41ms/step - loss: 0.0257 - accuracy: 0.9917 - val_loss: 0.1611 - val_accuracy: 0.9470\n",
            "Epoch 48/100\n",
            "6/6 [==============================] - 0s 44ms/step - loss: 0.0298 - accuracy: 0.9905 - val_loss: 0.1395 - val_accuracy: 0.9517\n",
            "Epoch 49/100\n",
            "6/6 [==============================] - 0s 44ms/step - loss: 0.0362 - accuracy: 0.9871 - val_loss: 0.2102 - val_accuracy: 0.9361\n",
            "Epoch 50/100\n",
            "6/6 [==============================] - 0s 37ms/step - loss: 0.0340 - accuracy: 0.9878 - val_loss: 0.1336 - val_accuracy: 0.9497\n",
            "Epoch 51/100\n",
            "6/6 [==============================] - 0s 41ms/step - loss: 0.0258 - accuracy: 0.9910 - val_loss: 0.1468 - val_accuracy: 0.9463\n",
            "Epoch 52/100\n",
            "6/6 [==============================] - 0s 36ms/step - loss: 0.0234 - accuracy: 0.9929 - val_loss: 0.1527 - val_accuracy: 0.9477\n",
            "Epoch 53/100\n",
            "6/6 [==============================] - 0s 33ms/step - loss: 0.0296 - accuracy: 0.9895 - val_loss: 0.1557 - val_accuracy: 0.9483\n",
            "Epoch 54/100\n",
            "6/6 [==============================] - 0s 42ms/step - loss: 0.0384 - accuracy: 0.9842 - val_loss: 0.1488 - val_accuracy: 0.9477\n",
            "Epoch 55/100\n",
            "6/6 [==============================] - 0s 37ms/step - loss: 0.0364 - accuracy: 0.9855 - val_loss: 0.1900 - val_accuracy: 0.9402\n",
            "Epoch 56/100\n",
            "6/6 [==============================] - 0s 43ms/step - loss: 0.0315 - accuracy: 0.9878 - val_loss: 0.1423 - val_accuracy: 0.9517\n",
            "Epoch 57/100\n",
            "6/6 [==============================] - 0s 39ms/step - loss: 0.0301 - accuracy: 0.9886 - val_loss: 0.1652 - val_accuracy: 0.9497\n",
            "Epoch 58/100\n",
            "6/6 [==============================] - 0s 44ms/step - loss: 0.0251 - accuracy: 0.9917 - val_loss: 0.1744 - val_accuracy: 0.9463\n",
            "Epoch 59/100\n",
            "6/6 [==============================] - 0s 43ms/step - loss: 0.0226 - accuracy: 0.9913 - val_loss: 0.1471 - val_accuracy: 0.9490\n",
            "Epoch 60/100\n",
            "6/6 [==============================] - 0s 36ms/step - loss: 0.0230 - accuracy: 0.9912 - val_loss: 0.1483 - val_accuracy: 0.9483\n",
            "Epoch 61/100\n",
            "6/6 [==============================] - 0s 44ms/step - loss: 0.0191 - accuracy: 0.9949 - val_loss: 0.1572 - val_accuracy: 0.9443\n",
            "Epoch 62/100\n",
            "6/6 [==============================] - 0s 37ms/step - loss: 0.0206 - accuracy: 0.9939 - val_loss: 0.1407 - val_accuracy: 0.9490\n",
            "Epoch 63/100\n",
            "6/6 [==============================] - 0s 48ms/step - loss: 0.0212 - accuracy: 0.9932 - val_loss: 0.1777 - val_accuracy: 0.9456\n",
            "Epoch 64/100\n",
            "6/6 [==============================] - 0s 42ms/step - loss: 0.0230 - accuracy: 0.9927 - val_loss: 0.1430 - val_accuracy: 0.9483\n",
            "Epoch 65/100\n",
            "6/6 [==============================] - 0s 36ms/step - loss: 0.0176 - accuracy: 0.9952 - val_loss: 0.1416 - val_accuracy: 0.9497\n",
            "Epoch 66/100\n",
            "6/6 [==============================] - 0s 36ms/step - loss: 0.0168 - accuracy: 0.9956 - val_loss: 0.1528 - val_accuracy: 0.9477\n",
            "Epoch 67/100\n",
            "6/6 [==============================] - 0s 37ms/step - loss: 0.0168 - accuracy: 0.9951 - val_loss: 0.1628 - val_accuracy: 0.9490\n",
            "Epoch 68/100\n",
            "6/6 [==============================] - 0s 35ms/step - loss: 0.0207 - accuracy: 0.9935 - val_loss: 0.1467 - val_accuracy: 0.9524\n",
            "Epoch 69/100\n",
            "6/6 [==============================] - 0s 36ms/step - loss: 0.0171 - accuracy: 0.9947 - val_loss: 0.1885 - val_accuracy: 0.9449\n",
            "Epoch 70/100\n",
            "6/6 [==============================] - 0s 36ms/step - loss: 0.0208 - accuracy: 0.9918 - val_loss: 0.1475 - val_accuracy: 0.9524\n",
            "Epoch 71/100\n",
            "6/6 [==============================] - 0s 37ms/step - loss: 0.0294 - accuracy: 0.9874 - val_loss: 0.2287 - val_accuracy: 0.9402\n",
            "Epoch 72/100\n",
            "6/6 [==============================] - 0s 39ms/step - loss: 0.0263 - accuracy: 0.9903 - val_loss: 0.1428 - val_accuracy: 0.9538\n",
            "Epoch 73/100\n",
            "6/6 [==============================] - 0s 48ms/step - loss: 0.0194 - accuracy: 0.9934 - val_loss: 0.1981 - val_accuracy: 0.9415\n",
            "Epoch 74/100\n",
            "6/6 [==============================] - 0s 35ms/step - loss: 0.0206 - accuracy: 0.9920 - val_loss: 0.1543 - val_accuracy: 0.9497\n",
            "Epoch 75/100\n",
            "6/6 [==============================] - 0s 41ms/step - loss: 0.0192 - accuracy: 0.9934 - val_loss: 0.1607 - val_accuracy: 0.9490\n",
            "Epoch 76/100\n",
            "6/6 [==============================] - 0s 44ms/step - loss: 0.0170 - accuracy: 0.9949 - val_loss: 0.1494 - val_accuracy: 0.9517\n",
            "Epoch 77/100\n",
            "6/6 [==============================] - 0s 35ms/step - loss: 0.0212 - accuracy: 0.9920 - val_loss: 0.1966 - val_accuracy: 0.9449\n",
            "Epoch 78/100\n",
            "6/6 [==============================] - 0s 35ms/step - loss: 0.0153 - accuracy: 0.9959 - val_loss: 0.1482 - val_accuracy: 0.9517\n",
            "Epoch 79/100\n",
            "6/6 [==============================] - 0s 35ms/step - loss: 0.0152 - accuracy: 0.9951 - val_loss: 0.1686 - val_accuracy: 0.9511\n",
            "Epoch 80/100\n",
            "6/6 [==============================] - 0s 42ms/step - loss: 0.0151 - accuracy: 0.9951 - val_loss: 0.1684 - val_accuracy: 0.9443\n",
            "Epoch 81/100\n",
            "6/6 [==============================] - 0s 38ms/step - loss: 0.0266 - accuracy: 0.9896 - val_loss: 0.1915 - val_accuracy: 0.9470\n",
            "Epoch 82/100\n",
            "6/6 [==============================] - 0s 36ms/step - loss: 0.0267 - accuracy: 0.9898 - val_loss: 0.1579 - val_accuracy: 0.9490\n",
            "Epoch 83/100\n",
            "6/6 [==============================] - 0s 54ms/step - loss: 0.0260 - accuracy: 0.9898 - val_loss: 0.1610 - val_accuracy: 0.9497\n",
            "Epoch 84/100\n",
            "6/6 [==============================] - 0s 48ms/step - loss: 0.0123 - accuracy: 0.9966 - val_loss: 0.1575 - val_accuracy: 0.9477\n",
            "Epoch 85/100\n",
            "6/6 [==============================] - 0s 55ms/step - loss: 0.0119 - accuracy: 0.9969 - val_loss: 0.1713 - val_accuracy: 0.9470\n",
            "Epoch 86/100\n",
            "6/6 [==============================] - 0s 58ms/step - loss: 0.0108 - accuracy: 0.9971 - val_loss: 0.1938 - val_accuracy: 0.9449\n",
            "Epoch 87/100\n",
            "6/6 [==============================] - 0s 52ms/step - loss: 0.0123 - accuracy: 0.9966 - val_loss: 0.1564 - val_accuracy: 0.9531\n",
            "Epoch 88/100\n",
            "6/6 [==============================] - 0s 56ms/step - loss: 0.0120 - accuracy: 0.9969 - val_loss: 0.1667 - val_accuracy: 0.9497\n",
            "Epoch 89/100\n",
            "6/6 [==============================] - 0s 56ms/step - loss: 0.0137 - accuracy: 0.9959 - val_loss: 0.2013 - val_accuracy: 0.9456\n",
            "Epoch 90/100\n",
            "6/6 [==============================] - 0s 56ms/step - loss: 0.0126 - accuracy: 0.9957 - val_loss: 0.1556 - val_accuracy: 0.9511\n",
            "Epoch 91/100\n",
            "6/6 [==============================] - 0s 47ms/step - loss: 0.0089 - accuracy: 0.9980 - val_loss: 0.1756 - val_accuracy: 0.9504\n",
            "Epoch 92/100\n",
            "6/6 [==============================] - 0s 47ms/step - loss: 0.0131 - accuracy: 0.9959 - val_loss: 0.1859 - val_accuracy: 0.9483\n",
            "Epoch 93/100\n",
            "6/6 [==============================] - 0s 48ms/step - loss: 0.0115 - accuracy: 0.9964 - val_loss: 0.1596 - val_accuracy: 0.9531\n",
            "Epoch 94/100\n",
            "6/6 [==============================] - 0s 51ms/step - loss: 0.0157 - accuracy: 0.9939 - val_loss: 0.2100 - val_accuracy: 0.9463\n",
            "Epoch 95/100\n",
            "6/6 [==============================] - 0s 53ms/step - loss: 0.0293 - accuracy: 0.9872 - val_loss: 0.1652 - val_accuracy: 0.9504\n",
            "Epoch 96/100\n",
            "6/6 [==============================] - 0s 48ms/step - loss: 0.0204 - accuracy: 0.9925 - val_loss: 0.1700 - val_accuracy: 0.9477\n",
            "Epoch 97/100\n",
            "6/6 [==============================] - 0s 49ms/step - loss: 0.0133 - accuracy: 0.9959 - val_loss: 0.2084 - val_accuracy: 0.9490\n",
            "Epoch 98/100\n",
            "6/6 [==============================] - 0s 42ms/step - loss: 0.0139 - accuracy: 0.9956 - val_loss: 0.1799 - val_accuracy: 0.9483\n",
            "Epoch 99/100\n",
            "6/6 [==============================] - 0s 38ms/step - loss: 0.0088 - accuracy: 0.9978 - val_loss: 0.1697 - val_accuracy: 0.9504\n",
            "Epoch 100/100\n",
            "6/6 [==============================] - 0s 35ms/step - loss: 0.0086 - accuracy: 0.9976 - val_loss: 0.2201 - val_accuracy: 0.9456\n"
          ]
        }
      ]
    },
    {
      "cell_type": "code",
      "source": [
        "# Entrenamiento del cuarto modelo\n",
        "history_fourth = Fourth_NN.fit(Xtrain, Ytrain_one_hot, epochs=100, batch_size=1000, validation_split=0.2)"
      ],
      "metadata": {
        "colab": {
          "base_uri": "https://localhost:8080/"
        },
        "id": "XU6omkzNg3bv",
        "outputId": "ecd2eaff-f065-4153-fcf3-00b7d0ee1768"
      },
      "execution_count": 64,
      "outputs": [
        {
          "output_type": "stream",
          "name": "stdout",
          "text": [
            "Epoch 1/100\n",
            "6/6 [==============================] - 1s 59ms/step - loss: 1.5531 - accuracy: 0.3548 - val_loss: 1.1969 - val_accuracy: 0.5710\n",
            "Epoch 2/100\n",
            "6/6 [==============================] - 0s 38ms/step - loss: 1.0057 - accuracy: 0.6648 - val_loss: 0.7743 - val_accuracy: 0.7995\n",
            "Epoch 3/100\n",
            "6/6 [==============================] - 0s 38ms/step - loss: 0.6937 - accuracy: 0.7469 - val_loss: 0.5553 - val_accuracy: 0.7750\n",
            "Epoch 4/100\n",
            "6/6 [==============================] - 0s 38ms/step - loss: 0.5124 - accuracy: 0.8085 - val_loss: 0.3945 - val_accuracy: 0.8804\n",
            "Epoch 5/100\n",
            "6/6 [==============================] - 0s 39ms/step - loss: 0.3967 - accuracy: 0.8473 - val_loss: 0.4129 - val_accuracy: 0.8695\n",
            "Epoch 6/100\n",
            "6/6 [==============================] - 0s 38ms/step - loss: 0.3176 - accuracy: 0.8747 - val_loss: 0.2482 - val_accuracy: 0.9007\n",
            "Epoch 7/100\n",
            "6/6 [==============================] - 0s 37ms/step - loss: 0.2525 - accuracy: 0.8986 - val_loss: 0.2136 - val_accuracy: 0.9279\n",
            "Epoch 8/100\n",
            "6/6 [==============================] - 0s 44ms/step - loss: 0.2106 - accuracy: 0.9133 - val_loss: 0.2107 - val_accuracy: 0.9198\n",
            "Epoch 9/100\n",
            "6/6 [==============================] - 0s 37ms/step - loss: 0.1951 - accuracy: 0.9196 - val_loss: 0.2054 - val_accuracy: 0.9014\n",
            "Epoch 10/100\n",
            "6/6 [==============================] - 0s 40ms/step - loss: 0.1652 - accuracy: 0.9354 - val_loss: 0.2148 - val_accuracy: 0.9164\n",
            "Epoch 11/100\n",
            "6/6 [==============================] - 0s 38ms/step - loss: 0.1415 - accuracy: 0.9481 - val_loss: 0.1809 - val_accuracy: 0.9198\n",
            "Epoch 12/100\n",
            "6/6 [==============================] - 0s 45ms/step - loss: 0.1346 - accuracy: 0.9488 - val_loss: 0.1653 - val_accuracy: 0.9273\n",
            "Epoch 13/100\n",
            "6/6 [==============================] - 0s 49ms/step - loss: 0.1161 - accuracy: 0.9583 - val_loss: 0.1464 - val_accuracy: 0.9395\n",
            "Epoch 14/100\n",
            "6/6 [==============================] - 0s 49ms/step - loss: 0.1065 - accuracy: 0.9617 - val_loss: 0.1802 - val_accuracy: 0.9266\n",
            "Epoch 15/100\n",
            "6/6 [==============================] - 0s 38ms/step - loss: 0.0974 - accuracy: 0.9643 - val_loss: 0.1431 - val_accuracy: 0.9334\n",
            "Epoch 16/100\n",
            "6/6 [==============================] - 0s 39ms/step - loss: 0.0984 - accuracy: 0.9645 - val_loss: 0.1699 - val_accuracy: 0.9279\n",
            "Epoch 17/100\n",
            "6/6 [==============================] - 0s 54ms/step - loss: 0.0856 - accuracy: 0.9696 - val_loss: 0.1612 - val_accuracy: 0.9286\n",
            "Epoch 18/100\n",
            "6/6 [==============================] - 0s 55ms/step - loss: 0.0781 - accuracy: 0.9741 - val_loss: 0.1353 - val_accuracy: 0.9456\n",
            "Epoch 19/100\n",
            "6/6 [==============================] - 0s 58ms/step - loss: 0.0742 - accuracy: 0.9730 - val_loss: 0.1470 - val_accuracy: 0.9354\n",
            "Epoch 20/100\n",
            "6/6 [==============================] - 0s 50ms/step - loss: 0.0690 - accuracy: 0.9760 - val_loss: 0.1738 - val_accuracy: 0.9286\n",
            "Epoch 21/100\n",
            "6/6 [==============================] - 0s 58ms/step - loss: 0.0639 - accuracy: 0.9767 - val_loss: 0.1236 - val_accuracy: 0.9477\n",
            "Epoch 22/100\n",
            "6/6 [==============================] - 0s 53ms/step - loss: 0.0672 - accuracy: 0.9755 - val_loss: 0.1218 - val_accuracy: 0.9490\n",
            "Epoch 23/100\n",
            "6/6 [==============================] - 0s 58ms/step - loss: 0.0638 - accuracy: 0.9772 - val_loss: 0.2028 - val_accuracy: 0.9279\n",
            "Epoch 24/100\n",
            "6/6 [==============================] - 0s 56ms/step - loss: 0.0606 - accuracy: 0.9796 - val_loss: 0.1359 - val_accuracy: 0.9422\n",
            "Epoch 25/100\n",
            "6/6 [==============================] - 0s 54ms/step - loss: 0.0693 - accuracy: 0.9721 - val_loss: 0.1201 - val_accuracy: 0.9497\n",
            "Epoch 26/100\n",
            "6/6 [==============================] - 0s 56ms/step - loss: 0.0593 - accuracy: 0.9769 - val_loss: 0.1277 - val_accuracy: 0.9463\n",
            "Epoch 27/100\n",
            "6/6 [==============================] - 0s 54ms/step - loss: 0.0554 - accuracy: 0.9796 - val_loss: 0.1187 - val_accuracy: 0.9517\n",
            "Epoch 28/100\n",
            "6/6 [==============================] - 0s 55ms/step - loss: 0.0482 - accuracy: 0.9828 - val_loss: 0.1246 - val_accuracy: 0.9497\n",
            "Epoch 29/100\n",
            "6/6 [==============================] - 0s 59ms/step - loss: 0.0483 - accuracy: 0.9833 - val_loss: 0.1448 - val_accuracy: 0.9375\n",
            "Epoch 30/100\n",
            "6/6 [==============================] - 0s 58ms/step - loss: 0.0444 - accuracy: 0.9859 - val_loss: 0.1215 - val_accuracy: 0.9511\n",
            "Epoch 31/100\n",
            "6/6 [==============================] - 0s 51ms/step - loss: 0.0428 - accuracy: 0.9859 - val_loss: 0.1505 - val_accuracy: 0.9436\n",
            "Epoch 32/100\n",
            "6/6 [==============================] - 0s 45ms/step - loss: 0.0567 - accuracy: 0.9772 - val_loss: 0.1244 - val_accuracy: 0.9504\n",
            "Epoch 33/100\n",
            "6/6 [==============================] - 0s 42ms/step - loss: 0.0566 - accuracy: 0.9777 - val_loss: 0.1630 - val_accuracy: 0.9375\n",
            "Epoch 34/100\n",
            "6/6 [==============================] - 0s 40ms/step - loss: 0.0480 - accuracy: 0.9815 - val_loss: 0.1407 - val_accuracy: 0.9504\n",
            "Epoch 35/100\n",
            "6/6 [==============================] - 0s 38ms/step - loss: 0.0526 - accuracy: 0.9799 - val_loss: 0.1895 - val_accuracy: 0.9347\n",
            "Epoch 36/100\n",
            "6/6 [==============================] - 0s 39ms/step - loss: 0.0419 - accuracy: 0.9847 - val_loss: 0.1369 - val_accuracy: 0.9497\n",
            "Epoch 37/100\n",
            "6/6 [==============================] - 0s 38ms/step - loss: 0.0418 - accuracy: 0.9850 - val_loss: 0.1671 - val_accuracy: 0.9388\n",
            "Epoch 38/100\n",
            "6/6 [==============================] - 0s 45ms/step - loss: 0.0427 - accuracy: 0.9842 - val_loss: 0.1276 - val_accuracy: 0.9497\n",
            "Epoch 39/100\n",
            "6/6 [==============================] - 0s 39ms/step - loss: 0.0346 - accuracy: 0.9884 - val_loss: 0.1240 - val_accuracy: 0.9551\n",
            "Epoch 40/100\n",
            "6/6 [==============================] - 0s 48ms/step - loss: 0.0372 - accuracy: 0.9867 - val_loss: 0.1332 - val_accuracy: 0.9456\n",
            "Epoch 41/100\n",
            "6/6 [==============================] - 0s 41ms/step - loss: 0.0420 - accuracy: 0.9847 - val_loss: 0.1413 - val_accuracy: 0.9456\n",
            "Epoch 42/100\n",
            "6/6 [==============================] - 0s 40ms/step - loss: 0.0587 - accuracy: 0.9760 - val_loss: 0.1300 - val_accuracy: 0.9524\n",
            "Epoch 43/100\n",
            "6/6 [==============================] - 0s 46ms/step - loss: 0.0392 - accuracy: 0.9850 - val_loss: 0.1502 - val_accuracy: 0.9436\n",
            "Epoch 44/100\n",
            "6/6 [==============================] - 0s 46ms/step - loss: 0.0374 - accuracy: 0.9866 - val_loss: 0.1389 - val_accuracy: 0.9449\n",
            "Epoch 45/100\n",
            "6/6 [==============================] - 0s 39ms/step - loss: 0.0321 - accuracy: 0.9900 - val_loss: 0.1401 - val_accuracy: 0.9436\n",
            "Epoch 46/100\n",
            "6/6 [==============================] - 0s 39ms/step - loss: 0.0341 - accuracy: 0.9878 - val_loss: 0.1294 - val_accuracy: 0.9524\n",
            "Epoch 47/100\n",
            "6/6 [==============================] - 0s 41ms/step - loss: 0.0290 - accuracy: 0.9901 - val_loss: 0.1558 - val_accuracy: 0.9422\n",
            "Epoch 48/100\n",
            "6/6 [==============================] - 0s 39ms/step - loss: 0.0300 - accuracy: 0.9895 - val_loss: 0.1247 - val_accuracy: 0.9551\n",
            "Epoch 49/100\n",
            "6/6 [==============================] - 0s 45ms/step - loss: 0.0290 - accuracy: 0.9889 - val_loss: 0.1295 - val_accuracy: 0.9538\n",
            "Epoch 50/100\n",
            "6/6 [==============================] - 0s 48ms/step - loss: 0.0321 - accuracy: 0.9881 - val_loss: 0.1686 - val_accuracy: 0.9395\n",
            "Epoch 51/100\n",
            "6/6 [==============================] - 0s 46ms/step - loss: 0.0378 - accuracy: 0.9849 - val_loss: 0.1580 - val_accuracy: 0.9443\n",
            "Epoch 52/100\n",
            "6/6 [==============================] - 0s 39ms/step - loss: 0.0419 - accuracy: 0.9832 - val_loss: 0.1313 - val_accuracy: 0.9531\n",
            "Epoch 53/100\n",
            "6/6 [==============================] - 0s 39ms/step - loss: 0.0352 - accuracy: 0.9888 - val_loss: 0.1525 - val_accuracy: 0.9470\n",
            "Epoch 54/100\n",
            "6/6 [==============================] - 0s 39ms/step - loss: 0.0275 - accuracy: 0.9912 - val_loss: 0.1722 - val_accuracy: 0.9409\n",
            "Epoch 55/100\n",
            "6/6 [==============================] - 0s 38ms/step - loss: 0.0288 - accuracy: 0.9900 - val_loss: 0.1318 - val_accuracy: 0.9511\n",
            "Epoch 56/100\n",
            "6/6 [==============================] - 0s 39ms/step - loss: 0.0252 - accuracy: 0.9920 - val_loss: 0.1323 - val_accuracy: 0.9511\n",
            "Epoch 57/100\n",
            "6/6 [==============================] - 0s 45ms/step - loss: 0.0245 - accuracy: 0.9918 - val_loss: 0.1310 - val_accuracy: 0.9517\n",
            "Epoch 58/100\n",
            "6/6 [==============================] - 0s 38ms/step - loss: 0.0246 - accuracy: 0.9927 - val_loss: 0.1449 - val_accuracy: 0.9470\n",
            "Epoch 59/100\n",
            "6/6 [==============================] - 0s 44ms/step - loss: 0.0245 - accuracy: 0.9915 - val_loss: 0.1297 - val_accuracy: 0.9551\n",
            "Epoch 60/100\n",
            "6/6 [==============================] - 0s 46ms/step - loss: 0.0239 - accuracy: 0.9917 - val_loss: 0.1454 - val_accuracy: 0.9483\n",
            "Epoch 61/100\n",
            "6/6 [==============================] - 0s 39ms/step - loss: 0.0298 - accuracy: 0.9889 - val_loss: 0.1326 - val_accuracy: 0.9551\n",
            "Epoch 62/100\n",
            "6/6 [==============================] - 0s 39ms/step - loss: 0.0235 - accuracy: 0.9918 - val_loss: 0.1407 - val_accuracy: 0.9545\n",
            "Epoch 63/100\n",
            "6/6 [==============================] - 0s 38ms/step - loss: 0.0246 - accuracy: 0.9925 - val_loss: 0.1638 - val_accuracy: 0.9449\n",
            "Epoch 64/100\n",
            "6/6 [==============================] - 0s 41ms/step - loss: 0.0222 - accuracy: 0.9927 - val_loss: 0.1363 - val_accuracy: 0.9558\n",
            "Epoch 65/100\n",
            "6/6 [==============================] - 0s 39ms/step - loss: 0.0280 - accuracy: 0.9910 - val_loss: 0.1911 - val_accuracy: 0.9388\n",
            "Epoch 66/100\n",
            "6/6 [==============================] - 0s 45ms/step - loss: 0.0267 - accuracy: 0.9900 - val_loss: 0.1468 - val_accuracy: 0.9490\n",
            "Epoch 67/100\n",
            "6/6 [==============================] - 0s 46ms/step - loss: 0.0396 - accuracy: 0.9847 - val_loss: 0.1727 - val_accuracy: 0.9429\n",
            "Epoch 68/100\n",
            "6/6 [==============================] - 0s 41ms/step - loss: 0.0419 - accuracy: 0.9850 - val_loss: 0.2093 - val_accuracy: 0.9388\n",
            "Epoch 69/100\n",
            "6/6 [==============================] - 0s 45ms/step - loss: 0.0404 - accuracy: 0.9837 - val_loss: 0.1375 - val_accuracy: 0.9517\n",
            "Epoch 70/100\n",
            "6/6 [==============================] - 0s 45ms/step - loss: 0.0268 - accuracy: 0.9910 - val_loss: 0.1749 - val_accuracy: 0.9429\n",
            "Epoch 71/100\n",
            "6/6 [==============================] - 0s 39ms/step - loss: 0.0266 - accuracy: 0.9891 - val_loss: 0.1355 - val_accuracy: 0.9565\n",
            "Epoch 72/100\n",
            "6/6 [==============================] - 0s 58ms/step - loss: 0.0266 - accuracy: 0.9900 - val_loss: 0.1931 - val_accuracy: 0.9415\n",
            "Epoch 73/100\n",
            "6/6 [==============================] - 0s 55ms/step - loss: 0.0272 - accuracy: 0.9901 - val_loss: 0.1540 - val_accuracy: 0.9477\n",
            "Epoch 74/100\n",
            "6/6 [==============================] - 0s 51ms/step - loss: 0.0204 - accuracy: 0.9929 - val_loss: 0.1861 - val_accuracy: 0.9429\n",
            "Epoch 75/100\n",
            "6/6 [==============================] - 0s 56ms/step - loss: 0.0249 - accuracy: 0.9913 - val_loss: 0.1385 - val_accuracy: 0.9572\n",
            "Epoch 76/100\n",
            "6/6 [==============================] - 0s 55ms/step - loss: 0.0214 - accuracy: 0.9920 - val_loss: 0.1516 - val_accuracy: 0.9497\n",
            "Epoch 77/100\n",
            "6/6 [==============================] - 0s 55ms/step - loss: 0.0195 - accuracy: 0.9937 - val_loss: 0.1790 - val_accuracy: 0.9422\n",
            "Epoch 78/100\n",
            "6/6 [==============================] - 0s 58ms/step - loss: 0.0197 - accuracy: 0.9942 - val_loss: 0.1477 - val_accuracy: 0.9531\n",
            "Epoch 79/100\n",
            "6/6 [==============================] - 0s 56ms/step - loss: 0.0177 - accuracy: 0.9944 - val_loss: 0.1462 - val_accuracy: 0.9524\n",
            "Epoch 80/100\n",
            "6/6 [==============================] - 0s 57ms/step - loss: 0.0187 - accuracy: 0.9939 - val_loss: 0.1863 - val_accuracy: 0.9429\n",
            "Epoch 81/100\n",
            "6/6 [==============================] - 0s 53ms/step - loss: 0.0201 - accuracy: 0.9923 - val_loss: 0.1478 - val_accuracy: 0.9538\n",
            "Epoch 82/100\n",
            "6/6 [==============================] - 0s 58ms/step - loss: 0.0218 - accuracy: 0.9927 - val_loss: 0.1591 - val_accuracy: 0.9504\n",
            "Epoch 83/100\n",
            "6/6 [==============================] - 0s 59ms/step - loss: 0.0201 - accuracy: 0.9925 - val_loss: 0.1500 - val_accuracy: 0.9531\n",
            "Epoch 84/100\n",
            "6/6 [==============================] - 0s 60ms/step - loss: 0.0238 - accuracy: 0.9918 - val_loss: 0.1568 - val_accuracy: 0.9511\n",
            "Epoch 85/100\n",
            "6/6 [==============================] - 0s 62ms/step - loss: 0.0188 - accuracy: 0.9932 - val_loss: 0.1452 - val_accuracy: 0.9538\n",
            "Epoch 86/100\n",
            "6/6 [==============================] - 0s 40ms/step - loss: 0.0194 - accuracy: 0.9934 - val_loss: 0.1559 - val_accuracy: 0.9517\n",
            "Epoch 87/100\n",
            "6/6 [==============================] - 0s 41ms/step - loss: 0.0176 - accuracy: 0.9946 - val_loss: 0.1861 - val_accuracy: 0.9443\n",
            "Epoch 88/100\n",
            "6/6 [==============================] - 0s 38ms/step - loss: 0.0181 - accuracy: 0.9937 - val_loss: 0.1499 - val_accuracy: 0.9551\n",
            "Epoch 89/100\n",
            "6/6 [==============================] - 0s 41ms/step - loss: 0.0316 - accuracy: 0.9876 - val_loss: 0.1555 - val_accuracy: 0.9551\n",
            "Epoch 90/100\n",
            "6/6 [==============================] - 0s 48ms/step - loss: 0.0212 - accuracy: 0.9918 - val_loss: 0.1869 - val_accuracy: 0.9449\n",
            "Epoch 91/100\n",
            "6/6 [==============================] - 0s 40ms/step - loss: 0.0174 - accuracy: 0.9939 - val_loss: 0.1595 - val_accuracy: 0.9504\n",
            "Epoch 92/100\n",
            "6/6 [==============================] - 0s 38ms/step - loss: 0.0187 - accuracy: 0.9934 - val_loss: 0.1865 - val_accuracy: 0.9443\n",
            "Epoch 93/100\n",
            "6/6 [==============================] - 0s 40ms/step - loss: 0.0169 - accuracy: 0.9947 - val_loss: 0.1514 - val_accuracy: 0.9551\n",
            "Epoch 94/100\n",
            "6/6 [==============================] - 0s 48ms/step - loss: 0.0186 - accuracy: 0.9932 - val_loss: 0.2061 - val_accuracy: 0.9436\n",
            "Epoch 95/100\n",
            "6/6 [==============================] - 0s 45ms/step - loss: 0.0180 - accuracy: 0.9939 - val_loss: 0.1727 - val_accuracy: 0.9497\n",
            "Epoch 96/100\n",
            "6/6 [==============================] - 0s 39ms/step - loss: 0.0297 - accuracy: 0.9872 - val_loss: 0.2530 - val_accuracy: 0.9361\n",
            "Epoch 97/100\n",
            "6/6 [==============================] - 0s 41ms/step - loss: 0.0247 - accuracy: 0.9906 - val_loss: 0.1534 - val_accuracy: 0.9545\n",
            "Epoch 98/100\n",
            "6/6 [==============================] - 0s 40ms/step - loss: 0.0156 - accuracy: 0.9952 - val_loss: 0.1815 - val_accuracy: 0.9470\n",
            "Epoch 99/100\n",
            "6/6 [==============================] - 0s 38ms/step - loss: 0.0151 - accuracy: 0.9956 - val_loss: 0.1723 - val_accuracy: 0.9470\n",
            "Epoch 100/100\n",
            "6/6 [==============================] - 0s 38ms/step - loss: 0.0137 - accuracy: 0.9952 - val_loss: 0.1350 - val_accuracy: 0.9592\n"
          ]
        }
      ]
    },
    {
      "cell_type": "code",
      "source": [
        "# Entrenamiento del quinto modelo\n",
        "history_fifth = Fifth_NN.fit(Xtrain, Ytrain_one_hot, epochs=100, batch_size=1000, validation_split=0.2)"
      ],
      "metadata": {
        "colab": {
          "base_uri": "https://localhost:8080/"
        },
        "id": "abJrFZGth4Js",
        "outputId": "e16ec0a4-b0f5-4e43-e6ee-8cbd8a76b4eb"
      },
      "execution_count": 65,
      "outputs": [
        {
          "output_type": "stream",
          "name": "stdout",
          "text": [
            "Epoch 1/100\n",
            "6/6 [==============================] - 3s 77ms/step - loss: 1.6666 - accuracy: 0.2660 - val_loss: 1.4096 - val_accuracy: 0.3263\n",
            "Epoch 2/100\n",
            "6/6 [==============================] - 0s 51ms/step - loss: 1.2299 - accuracy: 0.4262 - val_loss: 0.9533 - val_accuracy: 0.5180\n",
            "Epoch 3/100\n",
            "6/6 [==============================] - 0s 56ms/step - loss: 0.9309 - accuracy: 0.5139 - val_loss: 0.7642 - val_accuracy: 0.6152\n",
            "Epoch 4/100\n",
            "6/6 [==============================] - 0s 60ms/step - loss: 0.7755 - accuracy: 0.6257 - val_loss: 0.6344 - val_accuracy: 0.6975\n",
            "Epoch 5/100\n",
            "6/6 [==============================] - 0s 50ms/step - loss: 0.6037 - accuracy: 0.7230 - val_loss: 0.5091 - val_accuracy: 0.7865\n",
            "Epoch 6/100\n",
            "6/6 [==============================] - 0s 51ms/step - loss: 0.4711 - accuracy: 0.8053 - val_loss: 0.3776 - val_accuracy: 0.8470\n",
            "Epoch 7/100\n",
            "6/6 [==============================] - 0s 56ms/step - loss: 0.3833 - accuracy: 0.8420 - val_loss: 0.3425 - val_accuracy: 0.8579\n",
            "Epoch 8/100\n",
            "6/6 [==============================] - 0s 54ms/step - loss: 0.3207 - accuracy: 0.8643 - val_loss: 0.2842 - val_accuracy: 0.8756\n",
            "Epoch 9/100\n",
            "6/6 [==============================] - 0s 50ms/step - loss: 0.2834 - accuracy: 0.8764 - val_loss: 0.2050 - val_accuracy: 0.9266\n",
            "Epoch 10/100\n",
            "6/6 [==============================] - 0s 51ms/step - loss: 0.2159 - accuracy: 0.9107 - val_loss: 0.1823 - val_accuracy: 0.9225\n",
            "Epoch 11/100\n",
            "6/6 [==============================] - 0s 55ms/step - loss: 0.1604 - accuracy: 0.9379 - val_loss: 0.1646 - val_accuracy: 0.9327\n",
            "Epoch 12/100\n",
            "6/6 [==============================] - 0s 70ms/step - loss: 0.1300 - accuracy: 0.9510 - val_loss: 0.1611 - val_accuracy: 0.9429\n",
            "Epoch 13/100\n",
            "6/6 [==============================] - 0s 78ms/step - loss: 0.1446 - accuracy: 0.9427 - val_loss: 0.1447 - val_accuracy: 0.9470\n",
            "Epoch 14/100\n",
            "6/6 [==============================] - 0s 74ms/step - loss: 0.1435 - accuracy: 0.9400 - val_loss: 0.3121 - val_accuracy: 0.8838\n",
            "Epoch 15/100\n",
            "6/6 [==============================] - 0s 72ms/step - loss: 0.1706 - accuracy: 0.9276 - val_loss: 0.2849 - val_accuracy: 0.8756\n",
            "Epoch 16/100\n",
            "6/6 [==============================] - 0s 73ms/step - loss: 0.1720 - accuracy: 0.9276 - val_loss: 0.1434 - val_accuracy: 0.9422\n",
            "Epoch 17/100\n",
            "6/6 [==============================] - 0s 76ms/step - loss: 0.1144 - accuracy: 0.9541 - val_loss: 0.1360 - val_accuracy: 0.9504\n",
            "Epoch 18/100\n",
            "6/6 [==============================] - 0s 76ms/step - loss: 0.0937 - accuracy: 0.9650 - val_loss: 0.1386 - val_accuracy: 0.9443\n",
            "Epoch 19/100\n",
            "6/6 [==============================] - 0s 75ms/step - loss: 0.0773 - accuracy: 0.9702 - val_loss: 0.1356 - val_accuracy: 0.9443\n",
            "Epoch 20/100\n",
            "6/6 [==============================] - 0s 76ms/step - loss: 0.0739 - accuracy: 0.9719 - val_loss: 0.1418 - val_accuracy: 0.9436\n",
            "Epoch 21/100\n",
            "6/6 [==============================] - 0s 78ms/step - loss: 0.0667 - accuracy: 0.9753 - val_loss: 0.1164 - val_accuracy: 0.9551\n",
            "Epoch 22/100\n",
            "6/6 [==============================] - 0s 78ms/step - loss: 0.0587 - accuracy: 0.9796 - val_loss: 0.1282 - val_accuracy: 0.9531\n",
            "Epoch 23/100\n",
            "6/6 [==============================] - 0s 60ms/step - loss: 0.0548 - accuracy: 0.9782 - val_loss: 0.1021 - val_accuracy: 0.9572\n",
            "Epoch 24/100\n",
            "6/6 [==============================] - 0s 55ms/step - loss: 0.0507 - accuracy: 0.9803 - val_loss: 0.1203 - val_accuracy: 0.9558\n",
            "Epoch 25/100\n",
            "6/6 [==============================] - 0s 58ms/step - loss: 0.0467 - accuracy: 0.9835 - val_loss: 0.1033 - val_accuracy: 0.9585\n",
            "Epoch 26/100\n",
            "6/6 [==============================] - 0s 52ms/step - loss: 0.0429 - accuracy: 0.9833 - val_loss: 0.1214 - val_accuracy: 0.9565\n",
            "Epoch 27/100\n",
            "6/6 [==============================] - 0s 51ms/step - loss: 0.0418 - accuracy: 0.9838 - val_loss: 0.1030 - val_accuracy: 0.9579\n",
            "Epoch 28/100\n",
            "6/6 [==============================] - 0s 58ms/step - loss: 0.0433 - accuracy: 0.9835 - val_loss: 0.1019 - val_accuracy: 0.9585\n",
            "Epoch 29/100\n",
            "6/6 [==============================] - 0s 57ms/step - loss: 0.0419 - accuracy: 0.9842 - val_loss: 0.1536 - val_accuracy: 0.9497\n",
            "Epoch 30/100\n",
            "6/6 [==============================] - 0s 54ms/step - loss: 0.0563 - accuracy: 0.9769 - val_loss: 0.1628 - val_accuracy: 0.9429\n",
            "Epoch 31/100\n",
            "6/6 [==============================] - 0s 57ms/step - loss: 0.0628 - accuracy: 0.9747 - val_loss: 0.1373 - val_accuracy: 0.9517\n",
            "Epoch 32/100\n",
            "6/6 [==============================] - 0s 51ms/step - loss: 0.0797 - accuracy: 0.9685 - val_loss: 0.1106 - val_accuracy: 0.9565\n",
            "Epoch 33/100\n",
            "6/6 [==============================] - 0s 56ms/step - loss: 0.0555 - accuracy: 0.9772 - val_loss: 0.1429 - val_accuracy: 0.9511\n",
            "Epoch 34/100\n",
            "6/6 [==============================] - 0s 51ms/step - loss: 0.0425 - accuracy: 0.9844 - val_loss: 0.1286 - val_accuracy: 0.9531\n",
            "Epoch 35/100\n",
            "6/6 [==============================] - 0s 48ms/step - loss: 0.0402 - accuracy: 0.9876 - val_loss: 0.1132 - val_accuracy: 0.9545\n",
            "Epoch 36/100\n",
            "6/6 [==============================] - 0s 57ms/step - loss: 0.0360 - accuracy: 0.9876 - val_loss: 0.1131 - val_accuracy: 0.9585\n",
            "Epoch 37/100\n",
            "6/6 [==============================] - 0s 57ms/step - loss: 0.0320 - accuracy: 0.9891 - val_loss: 0.1163 - val_accuracy: 0.9592\n",
            "Epoch 38/100\n",
            "6/6 [==============================] - 0s 56ms/step - loss: 0.0314 - accuracy: 0.9898 - val_loss: 0.1109 - val_accuracy: 0.9572\n",
            "Epoch 39/100\n",
            "6/6 [==============================] - 0s 58ms/step - loss: 0.0322 - accuracy: 0.9889 - val_loss: 0.1200 - val_accuracy: 0.9565\n",
            "Epoch 40/100\n",
            "6/6 [==============================] - 0s 51ms/step - loss: 0.0332 - accuracy: 0.9886 - val_loss: 0.1386 - val_accuracy: 0.9551\n",
            "Epoch 41/100\n",
            "6/6 [==============================] - 0s 49ms/step - loss: 0.0322 - accuracy: 0.9884 - val_loss: 0.1271 - val_accuracy: 0.9524\n",
            "Epoch 42/100\n",
            "6/6 [==============================] - 0s 52ms/step - loss: 0.0304 - accuracy: 0.9888 - val_loss: 0.1507 - val_accuracy: 0.9545\n",
            "Epoch 43/100\n",
            "6/6 [==============================] - 0s 49ms/step - loss: 0.0298 - accuracy: 0.9896 - val_loss: 0.1273 - val_accuracy: 0.9585\n",
            "Epoch 44/100\n",
            "6/6 [==============================] - 0s 52ms/step - loss: 0.0350 - accuracy: 0.9876 - val_loss: 0.1773 - val_accuracy: 0.9409\n",
            "Epoch 45/100\n",
            "6/6 [==============================] - 0s 59ms/step - loss: 0.0931 - accuracy: 0.9648 - val_loss: 0.1840 - val_accuracy: 0.9368\n",
            "Epoch 46/100\n",
            "6/6 [==============================] - 0s 52ms/step - loss: 0.1008 - accuracy: 0.9607 - val_loss: 0.1545 - val_accuracy: 0.9477\n",
            "Epoch 47/100\n",
            "6/6 [==============================] - 0s 58ms/step - loss: 0.0574 - accuracy: 0.9767 - val_loss: 0.1907 - val_accuracy: 0.9327\n",
            "Epoch 48/100\n",
            "6/6 [==============================] - 0s 57ms/step - loss: 0.0534 - accuracy: 0.9798 - val_loss: 0.1417 - val_accuracy: 0.9531\n",
            "Epoch 49/100\n",
            "6/6 [==============================] - 0s 52ms/step - loss: 0.0404 - accuracy: 0.9854 - val_loss: 0.1257 - val_accuracy: 0.9524\n",
            "Epoch 50/100\n",
            "6/6 [==============================] - 0s 53ms/step - loss: 0.0352 - accuracy: 0.9872 - val_loss: 0.1220 - val_accuracy: 0.9531\n",
            "Epoch 51/100\n",
            "6/6 [==============================] - 0s 51ms/step - loss: 0.0293 - accuracy: 0.9891 - val_loss: 0.1305 - val_accuracy: 0.9545\n",
            "Epoch 52/100\n",
            "6/6 [==============================] - 0s 54ms/step - loss: 0.0276 - accuracy: 0.9913 - val_loss: 0.1330 - val_accuracy: 0.9592\n",
            "Epoch 53/100\n",
            "6/6 [==============================] - 0s 49ms/step - loss: 0.0281 - accuracy: 0.9901 - val_loss: 0.1268 - val_accuracy: 0.9592\n",
            "Epoch 54/100\n",
            "6/6 [==============================] - 0s 64ms/step - loss: 0.0249 - accuracy: 0.9927 - val_loss: 0.1318 - val_accuracy: 0.9579\n",
            "Epoch 55/100\n",
            "6/6 [==============================] - 0s 80ms/step - loss: 0.0239 - accuracy: 0.9927 - val_loss: 0.1396 - val_accuracy: 0.9517\n",
            "Epoch 56/100\n",
            "6/6 [==============================] - 0s 72ms/step - loss: 0.0399 - accuracy: 0.9837 - val_loss: 0.1970 - val_accuracy: 0.9409\n",
            "Epoch 57/100\n",
            "6/6 [==============================] - 0s 77ms/step - loss: 0.0523 - accuracy: 0.9794 - val_loss: 0.1340 - val_accuracy: 0.9565\n",
            "Epoch 58/100\n",
            "6/6 [==============================] - 0s 81ms/step - loss: 0.0273 - accuracy: 0.9912 - val_loss: 0.1350 - val_accuracy: 0.9551\n",
            "Epoch 59/100\n",
            "6/6 [==============================] - 0s 85ms/step - loss: 0.0228 - accuracy: 0.9925 - val_loss: 0.1328 - val_accuracy: 0.9572\n",
            "Epoch 60/100\n",
            "6/6 [==============================] - 0s 70ms/step - loss: 0.0229 - accuracy: 0.9925 - val_loss: 0.1363 - val_accuracy: 0.9585\n",
            "Epoch 61/100\n",
            "6/6 [==============================] - 0s 80ms/step - loss: 0.0214 - accuracy: 0.9934 - val_loss: 0.1542 - val_accuracy: 0.9538\n",
            "Epoch 62/100\n",
            "6/6 [==============================] - 0s 74ms/step - loss: 0.0217 - accuracy: 0.9925 - val_loss: 0.1493 - val_accuracy: 0.9531\n",
            "Epoch 63/100\n",
            "6/6 [==============================] - 0s 76ms/step - loss: 0.0198 - accuracy: 0.9935 - val_loss: 0.1632 - val_accuracy: 0.9497\n",
            "Epoch 64/100\n",
            "6/6 [==============================] - 0s 78ms/step - loss: 0.0220 - accuracy: 0.9918 - val_loss: 0.1576 - val_accuracy: 0.9551\n",
            "Epoch 65/100\n",
            "6/6 [==============================] - 0s 50ms/step - loss: 0.0228 - accuracy: 0.9929 - val_loss: 0.1539 - val_accuracy: 0.9545\n",
            "Epoch 66/100\n",
            "6/6 [==============================] - 0s 49ms/step - loss: 0.0192 - accuracy: 0.9934 - val_loss: 0.1701 - val_accuracy: 0.9517\n",
            "Epoch 67/100\n",
            "6/6 [==============================] - 0s 58ms/step - loss: 0.0233 - accuracy: 0.9908 - val_loss: 0.1590 - val_accuracy: 0.9524\n",
            "Epoch 68/100\n",
            "6/6 [==============================] - 0s 55ms/step - loss: 0.0215 - accuracy: 0.9932 - val_loss: 0.1608 - val_accuracy: 0.9545\n",
            "Epoch 69/100\n",
            "6/6 [==============================] - 0s 51ms/step - loss: 0.0248 - accuracy: 0.9903 - val_loss: 0.1878 - val_accuracy: 0.9470\n",
            "Epoch 70/100\n",
            "6/6 [==============================] - 0s 53ms/step - loss: 0.0242 - accuracy: 0.9906 - val_loss: 0.1700 - val_accuracy: 0.9483\n",
            "Epoch 71/100\n",
            "6/6 [==============================] - 0s 57ms/step - loss: 0.0198 - accuracy: 0.9929 - val_loss: 0.1658 - val_accuracy: 0.9538\n",
            "Epoch 72/100\n",
            "6/6 [==============================] - 0s 52ms/step - loss: 0.0183 - accuracy: 0.9944 - val_loss: 0.1847 - val_accuracy: 0.9483\n",
            "Epoch 73/100\n",
            "6/6 [==============================] - 0s 53ms/step - loss: 0.0165 - accuracy: 0.9944 - val_loss: 0.1790 - val_accuracy: 0.9504\n",
            "Epoch 74/100\n",
            "6/6 [==============================] - 0s 50ms/step - loss: 0.0184 - accuracy: 0.9934 - val_loss: 0.1726 - val_accuracy: 0.9517\n",
            "Epoch 75/100\n",
            "6/6 [==============================] - 0s 53ms/step - loss: 0.0162 - accuracy: 0.9940 - val_loss: 0.2357 - val_accuracy: 0.9361\n",
            "Epoch 76/100\n",
            "6/6 [==============================] - 0s 56ms/step - loss: 0.0253 - accuracy: 0.9906 - val_loss: 0.1678 - val_accuracy: 0.9572\n",
            "Epoch 77/100\n",
            "6/6 [==============================] - 0s 61ms/step - loss: 0.0172 - accuracy: 0.9940 - val_loss: 0.1776 - val_accuracy: 0.9497\n",
            "Epoch 78/100\n",
            "6/6 [==============================] - 0s 53ms/step - loss: 0.0133 - accuracy: 0.9959 - val_loss: 0.1677 - val_accuracy: 0.9565\n",
            "Epoch 79/100\n",
            "6/6 [==============================] - 0s 51ms/step - loss: 0.0144 - accuracy: 0.9946 - val_loss: 0.1770 - val_accuracy: 0.9531\n",
            "Epoch 80/100\n",
            "6/6 [==============================] - 0s 55ms/step - loss: 0.0133 - accuracy: 0.9959 - val_loss: 0.1826 - val_accuracy: 0.9524\n",
            "Epoch 81/100\n",
            "6/6 [==============================] - 0s 50ms/step - loss: 0.0132 - accuracy: 0.9966 - val_loss: 0.1818 - val_accuracy: 0.9497\n",
            "Epoch 82/100\n",
            "6/6 [==============================] - 0s 52ms/step - loss: 0.0134 - accuracy: 0.9957 - val_loss: 0.1814 - val_accuracy: 0.9524\n",
            "Epoch 83/100\n",
            "6/6 [==============================] - 0s 59ms/step - loss: 0.0156 - accuracy: 0.9944 - val_loss: 0.1882 - val_accuracy: 0.9517\n",
            "Epoch 84/100\n",
            "6/6 [==============================] - 0s 50ms/step - loss: 0.0162 - accuracy: 0.9940 - val_loss: 0.2246 - val_accuracy: 0.9463\n",
            "Epoch 85/100\n",
            "6/6 [==============================] - 0s 51ms/step - loss: 0.0181 - accuracy: 0.9937 - val_loss: 0.1821 - val_accuracy: 0.9558\n",
            "Epoch 86/100\n",
            "6/6 [==============================] - 0s 55ms/step - loss: 0.0860 - accuracy: 0.9699 - val_loss: 0.2040 - val_accuracy: 0.9443\n",
            "Epoch 87/100\n",
            "6/6 [==============================] - 0s 56ms/step - loss: 0.0732 - accuracy: 0.9738 - val_loss: 0.1520 - val_accuracy: 0.9531\n",
            "Epoch 88/100\n",
            "6/6 [==============================] - 0s 51ms/step - loss: 0.0358 - accuracy: 0.9859 - val_loss: 0.1449 - val_accuracy: 0.9470\n",
            "Epoch 89/100\n",
            "6/6 [==============================] - 0s 53ms/step - loss: 0.0307 - accuracy: 0.9871 - val_loss: 0.1380 - val_accuracy: 0.9511\n",
            "Epoch 90/100\n",
            "6/6 [==============================] - 0s 55ms/step - loss: 0.0342 - accuracy: 0.9872 - val_loss: 0.1349 - val_accuracy: 0.9531\n",
            "Epoch 91/100\n",
            "6/6 [==============================] - 0s 50ms/step - loss: 0.0220 - accuracy: 0.9920 - val_loss: 0.1847 - val_accuracy: 0.9375\n",
            "Epoch 92/100\n",
            "6/6 [==============================] - 0s 54ms/step - loss: 0.0321 - accuracy: 0.9896 - val_loss: 0.1382 - val_accuracy: 0.9551\n",
            "Epoch 93/100\n",
            "6/6 [==============================] - 0s 54ms/step - loss: 0.0326 - accuracy: 0.9893 - val_loss: 0.1756 - val_accuracy: 0.9483\n",
            "Epoch 94/100\n",
            "6/6 [==============================] - 0s 50ms/step - loss: 0.0264 - accuracy: 0.9901 - val_loss: 0.2498 - val_accuracy: 0.9354\n",
            "Epoch 95/100\n",
            "6/6 [==============================] - 0s 56ms/step - loss: 0.0336 - accuracy: 0.9867 - val_loss: 0.1585 - val_accuracy: 0.9504\n",
            "Epoch 96/100\n",
            "6/6 [==============================] - 0s 65ms/step - loss: 0.0390 - accuracy: 0.9837 - val_loss: 0.2302 - val_accuracy: 0.9327\n",
            "Epoch 97/100\n",
            "6/6 [==============================] - 0s 79ms/step - loss: 0.3691 - accuracy: 0.9406 - val_loss: 0.5899 - val_accuracy: 0.8708\n",
            "Epoch 98/100\n",
            "6/6 [==============================] - 0s 71ms/step - loss: 0.3820 - accuracy: 0.8976 - val_loss: 0.2990 - val_accuracy: 0.9137\n",
            "Epoch 99/100\n",
            "6/6 [==============================] - 0s 80ms/step - loss: 0.2089 - accuracy: 0.9471 - val_loss: 0.1984 - val_accuracy: 0.9252\n",
            "Epoch 100/100\n",
            "6/6 [==============================] - 0s 78ms/step - loss: 0.0833 - accuracy: 0.9716 - val_loss: 0.1449 - val_accuracy: 0.9497\n"
          ]
        }
      ]
    },
    {
      "cell_type": "code",
      "source": [
        "epochs = np.arange(1,101)#array of the number of epochs"
      ],
      "metadata": {
        "id": "TikSf6NZIu5k"
      },
      "execution_count": 66,
      "outputs": []
    },
    {
      "cell_type": "code",
      "source": [
        "#Let's see the adjust respect to the number of epoch\n",
        "plt.plot(history_first.history['accuracy'])\n",
        "plt.plot(history_first.history['val_accuracy'])\n",
        "plt.title('Precisión del Modelo')\n",
        "plt.xlabel('Época')\n",
        "plt.ylabel('Precisión')\n",
        "plt.legend(['Entrenamiento', 'Validación'], loc='upper left')\n",
        "\n",
        "metricas = history_first.history['val_accuracy']\n",
        "\n",
        "max_rendimiento = max(metricas)\n",
        "epoca_max_rendimiento = metricas.index(max_rendimiento) + 1\n",
        "\n",
        "\n",
        "umbral_rendimiento = 0.9\n",
        "mejor_numero_epocas = epoca_max_rendimiento\n",
        "\n",
        "for i in range(epoca_max_rendimiento - 1, 0, -1):\n",
        "    if metricas[i] < umbral_rendimiento:\n",
        "        break\n",
        "    mejor_numero_epocas = i + 1\n",
        "\n",
        "print(f\"La mejor época es {epoca_max_rendimiento} con un rendimiento de {max_rendimiento}.\")\n",
        "print(f\"El mínimo número de épocas necesarias es {mejor_numero_epocas}.\")\n"
      ],
      "metadata": {
        "colab": {
          "base_uri": "https://localhost:8080/",
          "height": 511
        },
        "id": "SDl2q603_rsp",
        "outputId": "72c00034-4d09-4c1e-a180-5470be603d52"
      },
      "execution_count": 67,
      "outputs": [
        {
          "output_type": "stream",
          "name": "stdout",
          "text": [
            "La mejor época es 96 con un rendimiento de 0.9598912596702576.\n",
            "El mínimo número de épocas necesarias es 8.\n"
          ]
        },
        {
          "output_type": "display_data",
          "data": {
            "text/plain": [
              "<Figure size 640x480 with 1 Axes>"
            ],
            "image/png": "[encoded data removed]"
          },
          "metadata": {}
        }
      ]
    },
    {
      "cell_type": "code",
      "source": [
        "plt.plot(history_second.history['accuracy'])\n",
        "plt.plot(history_second.history['val_accuracy'])\n",
        "plt.title('Precisión del Modelo')\n",
        "plt.xlabel('Época')\n",
        "plt.ylabel('Precisión')\n",
        "plt.legend(['Entrenamiento', 'Validación'], loc='upper left')"
      ],
      "metadata": {
        "colab": {
          "base_uri": "https://localhost:8080/",
          "height": 492
        },
        "id": "gMIakWCPGJ1b",
        "outputId": "24b5fe67-f9b0-4f17-a6de-7a68b3f6c034"
      },
      "execution_count": 68,
      "outputs": [
        {
          "output_type": "execute_result",
          "data": {
            "text/plain": [
              "<matplotlib.legend.Legend at 0x7bb6d2573910>"
            ]
          },
          "metadata": {},
          "execution_count": 68
        },
        {
          "output_type": "display_data",
          "data": {
            "text/plain": [
              "<Figure size 640x480 with 1 Axes>"
            ],
            "image/png": "[encoded data removed]"
          },
          "metadata": {}
        }
      ]
    },
    {
      "cell_type": "code",
      "source": [
        "plt.plot(history_third.history['accuracy'])\n",
        "plt.plot(history_third.history['val_accuracy'])\n",
        "plt.title('Precisión del Modelo')\n",
        "plt.xlabel('Época')\n",
        "plt.ylabel('Precisión')\n",
        "plt.legend(['Entrenamiento', 'Validación'], loc='upper left')"
      ],
      "metadata": {
        "id": "DReKUt0NGOY5",
        "colab": {
          "base_uri": "https://localhost:8080/",
          "height": 492
        },
        "outputId": "ee408d12-93b8-4404-e868-f5078d1ee658"
      },
      "execution_count": 69,
      "outputs": [
        {
          "output_type": "execute_result",
          "data": {
            "text/plain": [
              "<matplotlib.legend.Legend at 0x7bb6d2570940>"
            ]
          },
          "metadata": {},
          "execution_count": 69
        },
        {
          "output_type": "display_data",
          "data": {
            "text/plain": [
              "<Figure size 640x480 with 1 Axes>"
            ],
            "image/png": "[encoded data removed]"
          },
          "metadata": {}
        }
      ]
    },
    {
      "cell_type": "code",
      "source": [
        "plt.plot(history_fourth.history['accuracy'])\n",
        "plt.plot(history_fourth.history['val_accuracy'])\n",
        "plt.title('Precisión del Modelo')\n",
        "plt.xlabel('Época')\n",
        "plt.ylabel('Precisión')\n",
        "plt.legend(['Entrenamiento', 'Validación'], loc='upper left')"
      ],
      "metadata": {
        "colab": {
          "base_uri": "https://localhost:8080/",
          "height": 492
        },
        "id": "zrKqE_PPjir9",
        "outputId": "5e73ef54-e504-4de3-e7f9-42a46f1574cf"
      },
      "execution_count": 71,
      "outputs": [
        {
          "output_type": "execute_result",
          "data": {
            "text/plain": [
              "<matplotlib.legend.Legend at 0x7bb6d360da80>"
            ]
          },
          "metadata": {},
          "execution_count": 71
        },
        {
          "output_type": "display_data",
          "data": {
            "text/plain": [
              "<Figure size 640x480 with 1 Axes>"
            ],
            "image/png": "[encoded data removed]"
          },
          "metadata": {}
        }
      ]
    },
    {
      "cell_type": "code",
      "source": [
        "plt.plot(history_fifth.history['accuracy'])\n",
        "plt.plot(history_fifth.history['val_accuracy'])\n",
        "plt.title('Precisión del Modelo')\n",
        "plt.xlabel('Época')\n",
        "plt.ylabel('Precisión')\n",
        "plt.legend(['Entrenamiento', 'Validación'], loc='upper left')"
      ],
      "metadata": {
        "colab": {
          "base_uri": "https://localhost:8080/",
          "height": 492
        },
        "id": "SdCzXRITjmrW",
        "outputId": "c1e9dd3e-8ebc-457b-b2a8-866cf3915582"
      },
      "execution_count": 72,
      "outputs": [
        {
          "output_type": "execute_result",
          "data": {
            "text/plain": [
              "<matplotlib.legend.Legend at 0x7bb6d2527af0>"
            ]
          },
          "metadata": {},
          "execution_count": 72
        },
        {
          "output_type": "display_data",
          "data": {
            "text/plain": [
              "<Figure size 640x480 with 1 Axes>"
            ],
            "image/png": "[encoded data removed]"
          },
          "metadata": {}
        }
      ]
    },
    {
      "cell_type": "code",
      "source": [
        "# Evaluate the model on the test dataset\n",
        "eval_results = First_NN.evaluate(Xtest, Ytest_one_hot)\n",
        "\n",
        "# Print evaluation metrics\n",
        "print(f'Pérdida en el conjunto de prueba: {eval_results[0]}')\n",
        "print(f'Precisión en el conjunto de prueba: {eval_results[1]}')\n",
        "print(First_NN.summary())"
      ],
      "metadata": {
        "colab": {
          "base_uri": "https://localhost:8080/"
        },
        "id": "6rvii08CXRv8",
        "outputId": "c92af53c-8c8c-4a19-8b25-a81781db51d3"
      },
      "execution_count": 70,
      "outputs": [
        {
          "output_type": "stream",
          "name": "stdout",
          "text": [
            "93/93 [==============================] - 2s 18ms/step - loss: 0.2952 - accuracy: 0.9263\n",
            "Pérdida en el conjunto de prueba: 0.2951764166355133\n",
            "Precisión en el conjunto de prueba: 0.9263408184051514\n",
            "Model: \"sequential_12\"\n",
            "_________________________________________________________________\n",
            " Layer (type)                Output Shape              Param #   \n",
            "=================================================================\n",
            " dense_55 (Dense)            (None, 102)               57324     \n",
            "                                                                 \n",
            " dense_56 (Dense)            (None, 256)               26368     \n",
            "                                                                 \n",
            " dense_57 (Dense)            (None, 128)               32896     \n",
            "                                                                 \n",
            " dense_58 (Dense)            (None, 64)                8256      \n",
            "                                                                 \n",
            " dense_59 (Dense)            (None, 6)                 390       \n",
            "                                                                 \n",
            "=================================================================\n",
            "Total params: 125234 (489.20 KB)\n",
            "Trainable params: 125234 (489.20 KB)\n",
            "Non-trainable params: 0 (0.00 Byte)\n",
            "_________________________________________________________________\n",
            "None\n"
          ]
        }
      ]
    },
    {
      "cell_type": "code",
      "source": [
        "# Evaluate the model on the test dataset\n",
        "eval_results = Second_NN.evaluate(Xtest, Ytest_one_hot)\n",
        "\n",
        "# Print evaluation metrics\n",
        "print(f'Pérdida en el conjunto de prueba: {eval_results[0]}')\n",
        "print(f'Precisión en el conjunto de prueba: {eval_results[1]}')\n",
        "print(Second_NN.summary())"
      ],
      "metadata": {
        "colab": {
          "base_uri": "https://localhost:8080/"
        },
        "id": "aHlFfOJBYU34",
        "outputId": "95a2fc65-943e-462a-9187-bc347bcec0c2"
      },
      "execution_count": 73,
      "outputs": [
        {
          "output_type": "stream",
          "name": "stdout",
          "text": [
            "93/93 [==============================] - 1s 14ms/step - loss: 0.2724 - accuracy: 0.9345\n",
            "Pérdida en el conjunto de prueba: 0.2723875641822815\n",
            "Precisión en el conjunto de prueba: 0.9344874620437622\n",
            "Model: \"sequential_13\"\n",
            "_________________________________________________________________\n",
            " Layer (type)                Output Shape              Param #   \n",
            "=================================================================\n",
            " dense_60 (Dense)            (None, 102)               57324     \n",
            "                                                                 \n",
            " dense_61 (Dense)            (None, 128)               13184     \n",
            "                                                                 \n",
            " dense_62 (Dense)            (None, 64)                8256      \n",
            "                                                                 \n",
            " dense_63 (Dense)            (None, 64)                4160      \n",
            "                                                                 \n",
            " dense_64 (Dense)            (None, 6)                 390       \n",
            "                                                                 \n",
            "=================================================================\n",
            "Total params: 83314 (325.45 KB)\n",
            "Trainable params: 83314 (325.45 KB)\n",
            "Non-trainable params: 0 (0.00 Byte)\n",
            "_________________________________________________________________\n",
            "None\n"
          ]
        }
      ]
    },
    {
      "cell_type": "code",
      "source": [
        "# Evaluate the model on the test dataset\n",
        "eval_results = Third_NN.evaluate(Xtest, Ytest_one_hot)\n",
        "\n",
        "# Print evaluation metrics\n",
        "print(f'Pérdida en el conjunto de prueba: {eval_results[0]}')\n",
        "print(f'Precisión en el conjunto de prueba: {eval_results[1]}')\n",
        "print(Third_NN.summary())"
      ],
      "metadata": {
        "colab": {
          "base_uri": "https://localhost:8080/"
        },
        "id": "OAOixGzDYakz",
        "outputId": "df267f03-c471-400e-faf3-7f61bc80cab8"
      },
      "execution_count": 74,
      "outputs": [
        {
          "output_type": "stream",
          "name": "stdout",
          "text": [
            "93/93 [==============================] - 2s 17ms/step - loss: 0.3383 - accuracy: 0.9223\n",
            "Pérdida en el conjunto de prueba: 0.33825355768203735\n",
            "Precisión en el conjunto de prueba: 0.922267496585846\n",
            "Model: \"sequential_14\"\n",
            "_________________________________________________________________\n",
            " Layer (type)                Output Shape              Param #   \n",
            "=================================================================\n",
            " dense_65 (Dense)            (None, 102)               57324     \n",
            "                                                                 \n",
            " dense_66 (Dense)            (None, 256)               26368     \n",
            "                                                                 \n",
            " dense_67 (Dense)            (None, 128)               32896     \n",
            "                                                                 \n",
            " dense_68 (Dense)            (None, 6)                 774       \n",
            "                                                                 \n",
            "=================================================================\n",
            "Total params: 117362 (458.45 KB)\n",
            "Trainable params: 117362 (458.45 KB)\n",
            "Non-trainable params: 0 (0.00 Byte)\n",
            "_________________________________________________________________\n",
            "None\n"
          ]
        }
      ]
    },
    {
      "cell_type": "code",
      "source": [
        "# Evaluate the model on the test dataset\n",
        "eval_results = Fourth_NN.evaluate(Xtest, Ytest_one_hot)\n",
        "\n",
        "# Print evaluation metrics\n",
        "print(f'Pérdida en el conjunto de prueba: {eval_results[0]}')\n",
        "print(f'Precisión en el conjunto de prueba: {eval_results[1]}')\n",
        "print(Fourth_NN.summary())"
      ],
      "metadata": {
        "colab": {
          "base_uri": "https://localhost:8080/"
        },
        "id": "T3n7i-4UkC5B",
        "outputId": "93a41c8a-91ba-490c-c469-79d9cc0e939b"
      },
      "execution_count": 75,
      "outputs": [
        {
          "output_type": "stream",
          "name": "stdout",
          "text": [
            "93/93 [==============================] - 2s 17ms/step - loss: 0.2729 - accuracy: 0.9355\n",
            "Pérdida en el conjunto de prueba: 0.27287524938583374\n",
            "Precisión en el conjunto de prueba: 0.935505747795105\n",
            "Model: \"sequential_15\"\n",
            "_________________________________________________________________\n",
            " Layer (type)                Output Shape              Param #   \n",
            "=================================================================\n",
            " dense_69 (Dense)            (None, 102)               57324     \n",
            "                                                                 \n",
            " dense_70 (Dense)            (None, 102)               10506     \n",
            "                                                                 \n",
            " dense_71 (Dense)            (None, 256)               26368     \n",
            "                                                                 \n",
            " dense_72 (Dense)            (None, 128)               32896     \n",
            "                                                                 \n",
            " dense_73 (Dense)            (None, 6)                 774       \n",
            "                                                                 \n",
            "=================================================================\n",
            "Total params: 127868 (499.48 KB)\n",
            "Trainable params: 127868 (499.48 KB)\n",
            "Non-trainable params: 0 (0.00 Byte)\n",
            "_________________________________________________________________\n",
            "None\n"
          ]
        }
      ]
    },
    {
      "cell_type": "code",
      "source": [
        "# Evaluate the model on the test dataset\n",
        "eval_results = Fifth_NN.evaluate(Xtest, Ytest_one_hot)\n",
        "\n",
        "# Print evaluation metrics\n",
        "print(f'Pérdida en el conjunto de prueba: {eval_results[0]}')\n",
        "print(f'Precisión en el conjunto de prueba: {eval_results[1]}')\n",
        "print(Fifth_NN.summary())"
      ],
      "metadata": {
        "colab": {
          "base_uri": "https://localhost:8080/"
        },
        "id": "uzPlYTj8Yiwj",
        "outputId": "1160db7f-c3e0-4712-a4a6-dd5c58f0cfdb"
      },
      "execution_count": 76,
      "outputs": [
        {
          "output_type": "stream",
          "name": "stdout",
          "text": [
            "93/93 [==============================] - 3s 33ms/step - loss: 0.2221 - accuracy: 0.9321\n",
            "Pérdida en el conjunto de prueba: 0.2220596969127655\n",
            "Precisión en el conjunto de prueba: 0.9321113228797913\n",
            "Model: \"sequential_16\"\n",
            "_________________________________________________________________\n",
            " Layer (type)                Output Shape              Param #   \n",
            "=================================================================\n",
            " dense_74 (Dense)            (None, 102)               57324     \n",
            "                                                                 \n",
            " dense_75 (Dense)            (None, 1024)              105472    \n",
            "                                                                 \n",
            " dense_76 (Dense)            (None, 512)               524800    \n",
            "                                                                 \n",
            " dense_77 (Dense)            (None, 256)               131328    \n",
            "                                                                 \n",
            " dense_78 (Dense)            (None, 128)               32896     \n",
            "                                                                 \n",
            " dense_79 (Dense)            (None, 64)                8256      \n",
            "                                                                 \n",
            " dense_80 (Dense)            (None, 32)                2080      \n",
            "                                                                 \n",
            " dense_81 (Dense)            (None, 24)                792       \n",
            "                                                                 \n",
            " dense_82 (Dense)            (None, 6)                 150       \n",
            "                                                                 \n",
            "=================================================================\n",
            "Total params: 863098 (3.29 MB)\n",
            "Trainable params: 863098 (3.29 MB)\n",
            "Non-trainable params: 0 (0.00 Byte)\n",
            "_________________________________________________________________\n",
            "None\n"
          ]
        }
      ]
    },
    {
      "cell_type": "markdown",
      "source": [
        "Best option is the fourth_NN because have an accuracy of 93,5% in 2 second of compute"
      ],
      "metadata": {
        "id": "4GIEVKQlour5"
      }
    },
    {
      "cell_type": "code",
      "source": [
        "Fourth_NN.save('modelo_RHA.h5')#Save the model in a \".h5\" archive"
      ],
      "metadata": {
        "colab": {
          "base_uri": "https://localhost:8080/"
        },
        "id": "9nvqVPS8kNoS",
        "outputId": "ad5a842c-4132-4bbd-ece5-b3c692509079"
      },
      "execution_count": 77,
      "outputs": [
        {
          "output_type": "stream",
          "name": "stderr",
          "text": [
            "/usr/local/lib/python3.10/dist-packages/keras/src/engine/training.py:3103: UserWarning: You are saving your model as an HDF5 file via `model.save()`. This file format is considered legacy. We recommend using instead the native Keras format, e.g. `model.save('my_model.keras')`.\n",
            "  saving_api.save_model(\n"
          ]
        }
      ]
    },
    {
      "cell_type": "code",
      "source": [
        "from google.colab import files #dowload in my PC\n",
        "files.download('modelo_RHA.h5')"
      ],
      "metadata": {
        "colab": {
          "base_uri": "https://localhost:8080/",
          "height": 17
        },
        "id": "tAexS49DvF50",
        "outputId": "d00a3f84-d6ec-4a4a-f551-4388f7330514"
      },
      "execution_count": 78,
      "outputs": [
        {
          "output_type": "display_data",
          "data": {
            "text/plain": [
              "<IPython.core.display.Javascript object>"
            ],
            "application/javascript": [
              "\n",
              "    async function download(id, filename, size) {\n",
              "      if (!google.colab.kernel.accessAllowed) {\n",
              "        return;\n",
              "      }\n",
              "      const div = document.createElement('div');\n",
              "      const label = document.createElement('label');\n",
              "      label.textContent = `Downloading \"${filename}\": `;\n",
              "      div.appendChild(label);\n",
              "      const progress = document.createElement('progress');\n",
              "      progress.max = size;\n",
              "      div.appendChild(progress);\n",
              "      document.body.appendChild(div);\n",
              "\n",
              "      const buffers = [];\n",
              "      let downloaded = 0;\n",
              "\n",
              "      const channel = await google.colab.kernel.comms.open(id);\n",
              "      // Send a message to notify the kernel that we're ready.\n",
              "      channel.send({})\n",
              "\n",
              "      for await (const message of channel.messages) {\n",
              "        // Send a message to notify the kernel that we're ready.\n",
              "        channel.send({})\n",
              "        if (message.buffers) {\n",
              "          for (const buffer of message.buffers) {\n",
              "            buffers.push(buffer);\n",
              "            downloaded += buffer.byteLength;\n",
              "            progress.value = downloaded;\n",
              "          }\n",
              "        }\n",
              "      }\n",
              "      const blob = new Blob(buffers, {type: 'application/binary'});\n",
              "      const a = document.createElement('a');\n",
              "      a.href = window.URL.createObjectURL(blob);\n",
              "      a.download = filename;\n",
              "      div.appendChild(a);\n",
              "      a.click();\n",
              "      div.remove();\n",
              "    }\n",
              "  "
            ]
          },
          "metadata": {}
        },
        {
          "output_type": "display_data",
          "data": {
            "text/plain": [
              "<IPython.core.display.Javascript object>"
            ],
            "application/javascript": [
              "download(\"download_196dc9cd-4a6c-4fa6-b853-7d6a3f722793\", \"modelo_RHA.h5\", 1583016)"
            ]
          },
          "metadata": {}
        }
      ]
    },
    {
      "cell_type": "code",
      "source": [],
      "metadata": {
        "id": "UYejUNL1v0ca"
      },
      "execution_count": null,
      "outputs": []
    }
  ]
}